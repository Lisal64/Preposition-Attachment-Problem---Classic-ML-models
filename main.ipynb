{
 "cells": [
  {
   "cell_type": "markdown",
   "metadata": {
    "id": "w-EolZK1El9L"
   },
   "source": [
    "# PP Attachment"
   ]
  },
  {
   "cell_type": "markdown",
   "metadata": {
    "id": "ZEHsHqnBEnM0"
   },
   "source": [
    "# Setup\n",
    "Loading the data"
   ]
  },
  {
   "cell_type": "code",
   "execution_count": 1,
   "metadata": {
    "id": "IQeJMBC9EjQj"
   },
   "outputs": [],
   "source": [
    "import csv\n",
    "\n",
    "from tqdm.notebook import tqdm\n",
    "from typing import Dict, List, Tuple\n",
    "from random import choice\n",
    "from urllib.request import urlopen\n"
   ]
  },
  {
   "cell_type": "code",
   "execution_count": 2,
   "metadata": {
    "id": "f5y8hLSTDcmT"
   },
   "outputs": [],
   "source": [
    "def read_pp_examples(file_url: str) -> List[Dict]:\n",
    "  \"\"\"Reads the pp samples from a remtoe url and loads them into a dictionary\n",
    "\n",
    "  Args:\n",
    "      file_url (str): a url to load the dataset from\n",
    "\n",
    "  Returns:\n",
    "      Dict: a dictionary with two keys: answer and pp\n",
    "  \"\"\"\n",
    "  pp_examples = []\n",
    "\n",
    "  for line in tqdm(urlopen(file_url)):\n",
    "    line = line.decode(\"utf-8\").strip().split()\n",
    "    assert(len(line) == 5)\n",
    "    v,n1,p,n2,answer = line\n",
    "    pp_examples.append( {'answer':answer,'keywords':(v,n1,p,n2)} )\n",
    "  return pp_examples"
   ]
  },
  {
   "cell_type": "code",
   "execution_count": 3,
   "metadata": {
    "id": "_kc6IkpCDphJ"
   },
   "outputs": [],
   "source": [
    "pp_samples_url = 'https://raw.githubusercontent.com/liadmagen/NLP-Course/master/dataset/pp_examples.txt'"
   ]
  },
  {
   "cell_type": "code",
   "execution_count": 4,
   "metadata": {
    "colab": {
     "base_uri": "https://localhost:8080/",
     "referenced_widgets": [
      "cd8ae80cc4704eaeb53dd420c860780c",
      "afbe8e962e7f491e810421b31fa6f4dc",
      "a4ddc41ed6d348fea0dd24101a05b61f",
      "e905c46a3e8c45939802e8f391eac7c4",
      "7434a567e30e4d27a92f9e6b7da7451f",
      "fb78fd2ff49a47168aeb150ea62587b0",
      "6cdbfdf25ae7480990f6bec3be5af042",
      "21e7997920304d9fa40ac980ccaa23a8",
      "c459ae9bc0914cceb22f5c0f636293ce",
      "8a736964320a40e58619af6f1a457f76",
      "68b10d056a4442cd9db79ddea92717e7"
     ]
    },
    "id": "4i0rtj1RFkug",
    "outputId": "5f423450-f265-4783-c1bc-b677275944f9"
   },
   "outputs": [
    {
     "data": {
      "application/vnd.jupyter.widget-view+json": {
       "model_id": "400e8241c1aa44de8fb8919c1d6a4a36",
       "version_major": 2,
       "version_minor": 0
      },
      "text/plain": [
       "0it [00:00, ?it/s]"
      ]
     },
     "metadata": {},
     "output_type": "display_data"
    }
   ],
   "source": [
    "pp_examples = read_pp_examples(pp_samples_url)\n"
   ]
  },
  {
   "cell_type": "markdown",
   "metadata": {
    "id": "MRYNWqK-Gu3F"
   },
   "source": [
    "# Step #1 - Look at the data\n",
    "\n",
    "Step 1 is (always) to examine the data!\n",
    "\n",
    "That means to check the data statistics, load some sample at random and ensure it is correctly labeled, and if possible, plot and visualize the data (histograms, distribution, etc.)."
   ]
  },
  {
   "cell_type": "code",
   "execution_count": 5,
   "metadata": {
    "colab": {
     "base_uri": "https://localhost:8080/"
    },
    "id": "a59ypmWhGlIZ",
    "outputId": "4a0c0919-b5b2-45bf-978d-d6ca62e5c223"
   },
   "outputs": [
    {
     "name": "stdout",
     "output_type": "stream",
     "text": [
      "There are 25858 samples in the dataset\n"
     ]
    }
   ],
   "source": [
    "print(f\"There are {len(pp_examples)} samples in the dataset\")"
   ]
  },
  {
   "cell_type": "code",
   "execution_count": 6,
   "metadata": {
    "colab": {
     "base_uri": "https://localhost:8080/"
    },
    "id": "_W9FOJmkG1HF",
    "outputId": "700edb2d-8d9a-44b1-ba43-a593b18e699e"
   },
   "outputs": [
    {
     "name": "stdout",
     "output_type": "stream",
     "text": [
      "{'answer': 'V', 'keywords': ('supply', 'area', 'with', 'water')}\n"
     ]
    }
   ],
   "source": [
    "print(choice(pp_examples))"
   ]
  },
  {
   "cell_type": "markdown",
   "metadata": {
    "id": "avutga3uvG29"
   },
   "source": [
    "Of course, we can reach the dictionary's parts by specifying the key in a squared brackets."
   ]
  },
  {
   "cell_type": "code",
   "execution_count": 7,
   "metadata": {
    "colab": {
     "base_uri": "https://localhost:8080/"
    },
    "id": "iLCTVAyAG4Cm",
    "outputId": "f978b1ba-91e2-4546-a5cb-1749d807f5b0"
   },
   "outputs": [
    {
     "data": {
      "text/plain": [
       "('inherited', 'copy', 'of', 'gene')"
      ]
     },
     "execution_count": 7,
     "metadata": {},
     "output_type": "execute_result"
    }
   ],
   "source": [
    "random_example = choice(pp_examples)\n",
    "random_example['keywords']"
   ]
  },
  {
   "cell_type": "code",
   "execution_count": 8,
   "metadata": {
    "colab": {
     "base_uri": "https://localhost:8080/"
    },
    "id": "W4tkr91VHHC0",
    "outputId": "4b907aa7-89cf-4f80-e64e-53aae6082d6d"
   },
   "outputs": [
    {
     "data": {
      "text/plain": [
       "'N'"
      ]
     },
     "execution_count": 8,
     "metadata": {},
     "output_type": "execute_result"
    }
   ],
   "source": [
    "random_example['answer']"
   ]
  },
  {
   "cell_type": "code",
   "execution_count": 21,
   "metadata": {
    "colab": {
     "base_uri": "https://localhost:8080/"
    },
    "id": "I5b1E6xMTGQM",
    "outputId": "e74d72ad-6934-4518-d3d3-8da13748e9d8"
   },
   "outputs": [
    {
     "data": {
      "text/plain": [
       "['creating obstacle to sale',\n",
       " 'restrict RTC to borrowings',\n",
       " 'maintain assets of thrifts',\n",
       " 'leaving spending for bailout',\n",
       " 'leaving spending at $',\n",
       " 'including interest over years',\n",
       " 'subtracting value of assets',\n",
       " 'say opponents of plan',\n",
       " 'pay price of consultation',\n",
       " 'want kind of flexibility']"
      ]
     },
     "execution_count": 21,
     "metadata": {},
     "output_type": "execute_result"
    }
   ],
   "source": [
    "# to use the CountVectorizer, we must convert the tuples into \"full\" sentences;\n",
    "joined_sentences = [' '.join(example['keywords']) for example in train_examples[:10]]\n",
    "joined_sentences"
   ]
  },
  {
   "cell_type": "code",
   "execution_count": 22,
   "metadata": {
    "colab": {
     "base_uri": "https://localhost:8080/"
    },
    "id": "RDZ6jlsOUKli",
    "outputId": "7cb37e4c-c094-442b-fcee-696e155b28d7"
   },
   "outputs": [
    {
     "name": "stdout",
     "output_type": "stream",
     "text": [
      "vocabulary size: 31\n"
     ]
    },
    {
     "data": {
      "text/plain": [
       "array(['assets', 'at', 'bailout', 'borrowings', 'consultation',\n",
       "       'creating', 'flexibility', 'for', 'including', 'interest', 'kind',\n",
       "       'leaving', 'maintain', 'obstacle', 'of', 'opponents', 'over',\n",
       "       'pay', 'plan', 'price', 'restrict', 'rtc', 'sale', 'say',\n",
       "       'spending', 'subtracting', 'thrifts', 'to', 'value', 'want',\n",
       "       'years'], dtype=object)"
      ]
     },
     "execution_count": 22,
     "metadata": {},
     "output_type": "execute_result"
    }
   ],
   "source": [
    "# CountVectorizer would, by default, tokenize the sentence by separating by\n",
    "# spaces and collect a vocabulary from all the different words it finds:\n",
    "vect = CountVectorizer()\n",
    "vect.fit(joined_sentences)\n",
    "print(f\"vocabulary size: {len(vect.vocabulary_)}\")\n",
    "vect.get_feature_names_out()"
   ]
  },
  {
   "cell_type": "code",
   "execution_count": 23,
   "metadata": {
    "colab": {
     "base_uri": "https://localhost:8080/"
    },
    "id": "SCDYy4wTFiK6",
    "outputId": "fcf925f7-ffc4-452e-ffa2-ce622f326541"
   },
   "outputs": [
    {
     "name": "stdout",
     "output_type": "stream",
     "text": [
      "vocabulary size: 87\n"
     ]
    },
    {
     "data": {
      "text/plain": [
       "array(['assets', 'assets of', 'assets of thrifts', 'at', 'bailout',\n",
       "       'borrowings', 'consultation', 'creating', 'creating obstacle',\n",
       "       'creating obstacle to', 'creating obstacle to sale', 'flexibility',\n",
       "       'for', 'for bailout', 'including', 'including interest',\n",
       "       'including interest over', 'including interest over years',\n",
       "       'interest', 'interest over', 'interest over years', 'kind',\n",
       "       'kind of', 'kind of flexibility', 'leaving', 'leaving spending',\n",
       "       'leaving spending at', 'leaving spending for',\n",
       "       'leaving spending for bailout', 'maintain', 'maintain assets',\n",
       "       'maintain assets of', 'maintain assets of thrifts', 'obstacle',\n",
       "       'obstacle to', 'obstacle to sale', 'of', 'of assets',\n",
       "       'of consultation', 'of flexibility', 'of plan', 'of thrifts',\n",
       "       'opponents', 'opponents of', 'opponents of plan', 'over',\n",
       "       'over years', 'pay', 'pay price', 'pay price of',\n",
       "       'pay price of consultation', 'plan', 'price', 'price of',\n",
       "       'price of consultation', 'restrict', 'restrict rtc',\n",
       "       'restrict rtc to', 'restrict rtc to borrowings', 'rtc', 'rtc to',\n",
       "       'rtc to borrowings', 'sale', 'say', 'say opponents',\n",
       "       'say opponents of', 'say opponents of plan', 'spending',\n",
       "       'spending at', 'spending for', 'spending for bailout',\n",
       "       'subtracting', 'subtracting value', 'subtracting value of',\n",
       "       'subtracting value of assets', 'thrifts', 'to', 'to borrowings',\n",
       "       'to sale', 'value', 'value of', 'value of assets', 'want',\n",
       "       'want kind', 'want kind of', 'want kind of flexibility', 'years'],\n",
       "      dtype=object)"
      ]
     },
     "execution_count": 23,
     "metadata": {},
     "output_type": "execute_result"
    }
   ],
   "source": [
    "# We can use it to generate n-grams sized 1 (unigram) to 4:\n",
    "vect = CountVectorizer(ngram_range=(1, 4))\n",
    "vect.fit(joined_sentences)\n",
    "print(f\"vocabulary size: {len(vect.vocabulary_)}\")\n",
    "vect.get_feature_names_out()"
   ]
  },
  {
   "cell_type": "code",
   "execution_count": 24,
   "metadata": {},
   "outputs": [
    {
     "name": "stderr",
     "output_type": "stream",
     "text": [
      "[nltk_data] Downloading package punkt to\n",
      "[nltk_data]     C:\\Users\\lisal\\AppData\\Roaming\\nltk_data...\n",
      "[nltk_data]   Package punkt is already up-to-date!\n",
      "[nltk_data] Downloading package averaged_perceptron_tagger to\n",
      "[nltk_data]     C:\\Users\\lisal\\AppData\\Roaming\\nltk_data...\n",
      "[nltk_data]   Package averaged_perceptron_tagger is already up-to-\n",
      "[nltk_data]       date!\n"
     ]
    },
    {
     "data": {
      "text/plain": [
       "True"
      ]
     },
     "execution_count": 24,
     "metadata": {},
     "output_type": "execute_result"
    }
   ],
   "source": [
    "import nltk\n",
    "from nltk import pos_tag\n",
    "from nltk.tokenize import word_tokenize\n",
    "from sklearn.feature_extraction.text import TfidfVectorizer\n",
    "import pandas as pd\n",
    "from collections import Counter\n",
    "\n",
    "nltk.download('punkt')\n",
    "nltk.download('averaged_perceptron_tagger')"
   ]
  },
  {
   "cell_type": "markdown",
   "metadata": {
    "id": "Fe0J8DNxo7jG"
   },
   "source": [
    "## Taking a closer look at our data"
   ]
  },
  {
   "cell_type": "code",
   "execution_count": 25,
   "metadata": {},
   "outputs": [
    {
     "name": "stdout",
     "output_type": "stream",
     "text": [
      "<class 'list'>\n",
      "[{'answer': 'N', 'keywords': ('creating', 'obstacle', 'to', 'sale')}, {'answer': 'V', 'keywords': ('restrict', 'RTC', 'to', 'borrowings')}, {'answer': 'N', 'keywords': ('maintain', 'assets', 'of', 'thrifts')}, {'answer': 'N', 'keywords': ('leaving', 'spending', 'for', 'bailout')}, {'answer': 'V', 'keywords': ('leaving', 'spending', 'at', '$')}]\n"
     ]
    }
   ],
   "source": [
    "# getting a better understanding of the structure of the data\n",
    "print(type(pp_examples))\n",
    "print(pp_examples[:5])"
   ]
  },
  {
   "cell_type": "code",
   "execution_count": 26,
   "metadata": {},
   "outputs": [
    {
     "name": "stdout",
     "output_type": "stream",
     "text": [
      "[{'answer': 'N', 'keywords': ('creating', 'obstacle', 'to', 'sale'), 'pos': [('creating', 'VBG'), ('obstacle', 'NN'), ('to', 'TO'), ('sale', 'NN')]}, {'answer': 'V', 'keywords': ('restrict', 'RTC', 'to', 'borrowings'), 'pos': [('restrict', 'NN'), ('rtc', 'NN'), ('to', 'TO'), ('borrowings', 'NNS')]}, {'answer': 'N', 'keywords': ('maintain', 'assets', 'of', 'thrifts'), 'pos': [('maintain', 'JJ'), ('assets', 'NNS'), ('of', 'IN'), ('thrifts', 'NNS')]}, {'answer': 'N', 'keywords': ('leaving', 'spending', 'for', 'bailout'), 'pos': [('leaving', 'VBG'), ('spending', 'NN'), ('for', 'IN'), ('bailout', 'NN')]}, {'answer': 'V', 'keywords': ('leaving', 'spending', 'at', '$'), 'pos': [('leaving', 'VBG'), ('spending', 'NN'), ('at', 'IN'), ('$', '$')]}, {'answer': 'N', 'keywords': ('including', 'interest', 'over', 'years'), 'pos': [('including', 'VBG'), ('interest', 'NN'), ('over', 'IN'), ('years', 'NNS')]}, {'answer': 'N', 'keywords': ('subtracting', 'value', 'of', 'assets'), 'pos': [('subtracting', 'VBG'), ('value', 'NN'), ('of', 'IN'), ('assets', 'NNS')]}, {'answer': 'N', 'keywords': ('say', 'opponents', 'of', 'plan'), 'pos': [('say', 'JJ'), ('opponents', 'NNS'), ('of', 'IN'), ('plan', 'NN')]}, {'answer': 'N', 'keywords': ('pay', 'price', 'of', 'consultation'), 'pos': [('pay', 'NN'), ('price', 'NN'), ('of', 'IN'), ('consultation', 'NN')]}, {'answer': 'N', 'keywords': ('want', 'kind', 'of', 'flexibility'), 'pos': [('want', 'JJ'), ('kind', 'NN'), ('of', 'IN'), ('flexibility', 'NN')]}]\n"
     ]
    }
   ],
   "source": [
    "# doing pos tagging to be able to answer the questions about the frequency of preposition, nouns and verbs\n",
    "def pos_tagging(keywords):\n",
    "    keywords = [word.lower() for word in keywords]\n",
    "    tokens = word_tokenize(\" \".join(keywords))\n",
    "    return pos_tag(tokens)\n",
    "\n",
    "for example in pp_examples:\n",
    "    example['pos'] = pos_tagging(example['keywords'])\n",
    "\n",
    "print(pp_examples[:10])"
   ]
  },
  {
   "cell_type": "code",
   "execution_count": 27,
   "metadata": {},
   "outputs": [
    {
     "name": "stdout",
     "output_type": "stream",
     "text": [
      "The amount of IN in our corpus is: 23101\n",
      "The amount of VB in our corpus is: 18304\n",
      "The amount of NN in our corpus is: 51819\n",
      "The frequency of IN is: 22.33448062495166 %\n",
      "The frequency of VB is: 17.696650939747855 %\n",
      "The frequency of NN is: 50.09958233428726 %\n"
     ]
    }
   ],
   "source": [
    "#getting the frequencies of word types we're interested in\n",
    "\n",
    "def count_pos(pos_tags, count_pos):\n",
    "    counter = Counter()\n",
    "    for example in pos_tags:\n",
    "        tags = [tag[1] for tag in example['pos']]\n",
    "        counter.update([tag for tag in tags if tag.startswith(count_pos) or tag.startswith('TO')])\n",
    "    return f\"The amount of {count_pos} in our corpus is: {sum(counter[key] for key in counter if key.startswith(count_pos))}\"\n",
    "\n",
    "def freq_pos(pos_tags, count_pos):\n",
    "    counter = Counter()\n",
    "    for example in pos_tags:\n",
    "        tags = [tag[1] for tag in example['pos']]\n",
    "        counter.update([tag for tag in tags if tag.startswith(count_pos) or tag.startswith('TO')])\n",
    "    total_words = sum(len(example['keywords']) for example in pos_tags)\n",
    "    pos_relfreq = (sum(counter[key] for key in counter if key.startswith(count_pos)) / total_words) * 100\n",
    "    return f\"The frequency of {count_pos} is: {pos_relfreq} %\"\n",
    "\n",
    "prep_count = count_pos(pp_examples, 'IN')\n",
    "print(prep_count)\n",
    "verb_count = count_pos(pp_examples, 'VB')\n",
    "print(verb_count)\n",
    "noun_count = count_pos(pp_examples, 'NN')\n",
    "print(noun_count)\n",
    "\n",
    "prep_relfreq = freq_pos(pp_examples, 'IN')\n",
    "print(prep_relfreq)\n",
    "verb_relfreq = freq_pos(pp_examples, 'VB')\n",
    "print(verb_relfreq)\n",
    "noun_relfreq = freq_pos(pp_examples, 'NN')\n",
    "print(noun_relfreq)"
   ]
  },
  {
   "cell_type": "code",
   "execution_count": 28,
   "metadata": {},
   "outputs": [
    {
     "name": "stdout",
     "output_type": "stream",
     "text": [
      "{'use', 'on', 'toward', 'like', 'within', 'over', 'except', 'unto', 'throughout', 'divide', 'out', 'as', 'toronto', 'after', 'at', 'among', 'near', 'of', 'below', 'with', 'before', 'against', 'about', 'without', 'through', 'under', 'along', 'across', 'despite', 'beneath', 'from', 'next', 'into', 'until', 'onto', 'prove', 'vs.', 'around', 'than', 'between', 'accept', 'worth', 'besides', 'inside', 'above', 'during', 'amid', 'upon', 'by', 'beyond', 'unlike', 'while', 'aboard', 'for', 'to', 'outside', 'behind', 'allow', 'alongside', 'past', 'in', 'via', 'per', 'oversaw', 'since', 'off'}\n"
     ]
    }
   ],
   "source": [
    "# getting a set of all prepositions in my data\n",
    "\n",
    "def get_unique_prepositions(pos_tags):\n",
    "    prep = []\n",
    "    for example in pos_tags:\n",
    "        for word, tag in example['pos']:\n",
    "            if tag.startswith('IN') or tag.startswith('TO'):\n",
    "                prep.append(word)\n",
    "    unique_prep = set(prep)\n",
    "    return unique_prep\n",
    "\n",
    "unique_prep = get_unique_prepositions(pp_examples)\n",
    "print(unique_prep)"
   ]
  },
  {
   "cell_type": "code",
   "execution_count": 29,
   "metadata": {},
   "outputs": [
    {
     "name": "stdout",
     "output_type": "stream",
     "text": [
      "on is rather confusing\n",
      "near is rather confusing\n",
      "below is rather confusing\n",
      "despite occurrs over 90% of the time with a V\n",
      "next occurrs over 90% of the time with a V\n",
      "until occurrs over 90% of the time with a V\n",
      "onto occurrs over 90% of the time with a V\n",
      "above is rather confusing\n",
      "amid occurrs over 90% of the time with a V\n",
      "unlike occurrs over 90% of the time with a V\n",
      "while occurrs over 90% of the time with a V\n",
      "aboard occurrs over 90% of the time with a V\n",
      "alongside is rather confusing\n",
      "in is rather confusing\n",
      "on is rather confusing\n",
      "unto occurrs over 90% of the time with a N\n",
      "near is rather confusing\n",
      "of occurrs over 90% of the time with a N\n",
      "below is rather confusing\n",
      "vs. occurrs over 90% of the time with a N\n",
      "besides occurrs over 90% of the time with a N\n",
      "above is rather confusing\n",
      "alongside is rather confusing\n",
      "in is rather confusing\n",
      "per occurrs over 90% of the time with a N\n",
      "oversaw occurrs over 90% of the time with a N\n",
      "These are the frequencies of prepositions over the whole dataset: ({'use': 0.15082372960012375, 'on': 1.5498105035192202, 'toward': 0.03673911362054297, 'like': 0.04737412019491066, 'within': 0.05897594554876633, 'over': 0.20689921881042617, 'except': 0.004834093897439864, 'unto': 0.0009668187794879727, 'throughout': 0.01740273803078351, 'divide': 0.0029004563384639184, 'out': 0.004834093897439864, 'as': 0.638100394462062, 'toronto': 0.0, 'after': 0.14792327326165983, 'at': 0.9097764714981823, 'among': 0.08991414649238147, 'near': 0.005800912676927837, 'of': 6.503789929615593, 'below': 0.015469100471807563, 'with': 1.0693015701136979, 'before': 0.07927913991801376, 'against': 0.18659602444117876, 'about': 0.2339701446360894, 'without': 0.06477685822569418, 'through': 0.16435919251295536, 'under': 0.11988552865650863, 'along': 0.0106350065743677, 'across': 0.022236831928223372, 'despite': 0.030938200943615126, 'beneath': 0.0038672751179518908, 'from': 1.5942841673756671, 'next': 0.0029004563384639184, 'into': 0.28231108361048807, 'until': 0.04930775775388661, 'onto': 0.004834093897439864, 'prove': 0.004834093897439864, 'vs.': 0.0009668187794879727, 'around': 0.029971382164127158, 'than': 0.10441642818470105, 'between': 0.13922190424626807, 'accept': 0.03287183850259107, 'worth': 0.020303194369247428, 'besides': 0.0009668187794879727, 'inside': 0.00676773145641581, 'above': 0.02707092582566324, 'during': 0.1305205352308763, 'amid': 0.025137288266687294, 'upon': 0.0106350065743677, 'by': 0.5414185165132648, 'beyond': 0.012568644133343647, 'unlike': 0.0019336375589759454, 'while': 0.005800912676927837, 'aboard': 0.0009668187794879727, 'for': 2.671320287725269, 'to': 2.6626189187098768, 'outside': 0.008701369015391754, 'behind': 0.018369556810271484, 'allow': 0.026104107046175263, 'alongside': 0.0019336375589759454, 'past': 0.01740273803078351, 'in': 4.2810735555727435, 'via': 0.009668187794879728, 'per': 0.015469100471807563, 'oversaw': 0.0009668187794879727, 'since': 0.09668187794879728, 'off': 0.02707092582566324}, [], [])\n",
      "These are the frequencies of each preposition being attached to a Verb : {'use': 36.53846153846153, 'on': 49.906425452276984, 'toward': 31.57894736842105, 'like': 16.3265306122449, 'within': 81.9672131147541, 'over': 55.140186915887845, 'except': 80.0, 'unto': 0.0, 'throughout': 83.33333333333334, 'divide': 33.33333333333333, 'out': 60.0, 'as': 67.12121212121212, 'toronto': 0, 'after': 86.9281045751634, 'at': 73.96386822529225, 'among': 43.01075268817204, 'near': 50.0, 'of': 4.236658242901739, 'below': 50.0, 'with': 58.49909584086799, 'before': 82.92682926829268, 'against': 38.34196891191709, 'about': 24.380165289256198, 'without': 83.5820895522388, 'through': 87.6470588235294, 'under': 80.64516129032258, 'along': 63.63636363636363, 'across': 56.52173913043478, 'despite': 100.0, 'beneath': 75.0, 'from': 69.73923590054578, 'next': 100.0, 'into': 84.24657534246576, 'until': 92.15686274509804, 'onto': 100.0, 'prove': 20.0, 'vs.': 0.0, 'around': 77.41935483870968, 'than': 14.814814814814813, 'between': 20.13888888888889, 'accept': 23.52941176470588, 'worth': 23.809523809523807, 'besides': 0.0, 'inside': 57.14285714285714, 'above': 50.0, 'during': 86.66666666666667, 'amid': 96.15384615384616, 'upon': 81.81818181818183, 'by': 63.74999999999999, 'beyond': 61.53846153846154, 'unlike': 100.0, 'while': 100.0, 'aboard': 100.0, 'for': 43.648208469055376, 'to': 76.97893972403776, 'outside': 77.77777777777779, 'behind': 31.57894736842105, 'allow': 29.629629629629626, 'alongside': 50.0, 'past': 55.55555555555556, 'in': 54.719963866305335, 'via': 90.0, 'per': 6.25, 'oversaw': 0.0, 'since': 73.0, 'off': 89.28571428571429}\n",
      "These are the frequencies of each preposition being attached to a Noun: {'use': 63.46153846153846, 'on': 50.093574547723016, 'toward': 68.42105263157895, 'like': 83.6734693877551, 'within': 18.0327868852459, 'over': 44.85981308411215, 'except': 20.0, 'unto': 100.0, 'throughout': 16.666666666666664, 'divide': 66.66666666666666, 'out': 40.0, 'as': 32.87878787878788, 'toronto': 0, 'after': 13.071895424836603, 'at': 26.036131774707762, 'among': 56.98924731182796, 'near': 50.0, 'of': 95.76334175709826, 'below': 50.0, 'with': 41.500904159132006, 'before': 17.073170731707318, 'against': 61.6580310880829, 'about': 75.6198347107438, 'without': 16.417910447761194, 'through': 12.352941176470589, 'under': 19.35483870967742, 'along': 36.36363636363637, 'across': 43.47826086956522, 'despite': 0.0, 'beneath': 25.0, 'from': 30.260764099454214, 'next': 0.0, 'into': 15.753424657534246, 'until': 7.8431372549019605, 'onto': 0.0, 'prove': 80.0, 'vs.': 100.0, 'around': 22.58064516129032, 'than': 85.18518518518519, 'between': 79.86111111111111, 'accept': 76.47058823529412, 'worth': 76.19047619047619, 'besides': 100.0, 'inside': 42.857142857142854, 'above': 50.0, 'during': 13.333333333333334, 'amid': 3.8461538461538463, 'upon': 18.181818181818183, 'by': 36.25, 'beyond': 38.46153846153847, 'unlike': 0.0, 'while': 0.0, 'aboard': 0.0, 'for': 56.35179153094463, 'to': 23.02106027596224, 'outside': 22.22222222222222, 'behind': 68.42105263157895, 'allow': 70.37037037037037, 'alongside': 50.0, 'past': 44.44444444444444, 'in': 45.280036133694665, 'via': 10.0, 'per': 93.75, 'oversaw': 100.0, 'since': 27.0, 'off': 10.714285714285714}\n"
     ]
    }
   ],
   "source": [
    "# checking for most frequent prepositions & occurrences with N/V\n",
    "\n",
    "def count_freq_prep(prepositions: set[str], pos_answer = None):\n",
    "    total_words = sum(len(example['keywords']) for example in pp_examples)\n",
    "    rel_freq_prep = {}\n",
    "    certain_prep = []\n",
    "    confusing_prep = []\n",
    "    for prep in prepositions:\n",
    "        total_answers = sum(1 for example in pp_examples if prep in example['keywords'])\n",
    "        counter = Counter()\n",
    "        counter_pos = Counter()\n",
    "        for example in pp_examples:\n",
    "            if pos_answer is None:\n",
    "                counter.update([word for word in example['keywords'] if prep == word])\n",
    "            else:\n",
    "                if prep in example['keywords']:\n",
    "                    if example['answer'] == pos_answer:\n",
    "                        counter_pos[prep] += 1\n",
    "        if pos_answer is None:\n",
    "            rel_freq_prep[prep] = (counter[prep] / total_words) * 100\n",
    "        else:\n",
    "            try:\n",
    "                rel_freq_prep[prep] = (counter_pos[prep] / total_answers) * 100\n",
    "            except ZeroDivisionError:\n",
    "                rel_freq_prep[prep] = 0\n",
    "        if rel_freq_prep[prep] > 90:\n",
    "            print(f\"{prep} occurrs over 90% of the time with a {pos_answer}\")\n",
    "            certain_prep.append(prep)\n",
    "        elif 45 <= rel_freq_prep[prep] <= 55:\n",
    "            print(f\"{prep} is rather confusing\")\n",
    "            confusing_prep.append(prep)\n",
    "    return rel_freq_prep, certain_prep, confusing_prep\n",
    "    \n",
    "\n",
    "freq_all = count_freq_prep(get_unique_prepositions(pp_examples))\n",
    "freq_prep_verb, certain_prep_verb, confusing_prep_verb = count_freq_prep(get_unique_prepositions(pp_examples), 'V')\n",
    "freq_prep_noun, certain_prep_noun, confusing_prep_noun = count_freq_prep(get_unique_prepositions(pp_examples), 'N')\n",
    "print(f\"These are the frequencies of prepositions over the whole dataset: {freq_all}\")\n",
    "print(f\"These are the frequencies of each preposition being attached to a Verb : {freq_prep_verb}\")\n",
    "print(f\"These are the frequencies of each preposition being attached to a Noun: {freq_prep_noun}\")"
   ]
  },
  {
   "cell_type": "code",
   "execution_count": 30,
   "metadata": {},
   "outputs": [
    {
     "name": "stdout",
     "output_type": "stream",
     "text": [
      "These are prepositions most likely to be with a verb: ['despite', 'next', 'until', 'onto', 'amid', 'unlike', 'while', 'aboard']\n",
      "These are prepositions most likely to be with a noun: ['unto', 'of', 'vs.', 'besides', 'per', 'oversaw']\n",
      "These are confusing prepositions: {'on', 'near', 'below', 'alongside', 'in', 'above'}\n"
     ]
    }
   ],
   "source": [
    "# the above is not really readable or good to work with, so here a more concise analysis / representation\n",
    "print(f\"These are prepositions most likely to be with a verb: {certain_prep_verb}\")\n",
    "\n",
    "print(f\"These are prepositions most likely to be with a noun: {certain_prep_noun}\")\n",
    "\n",
    "confusing_prep_verb = set(confusing_prep_verb)\n",
    "confusing_prep_noun = set(confusing_prep_noun)\n",
    "confusing_prep = confusing_prep_verb.intersection(confusing_prep_noun)\n",
    "print(f\"These are confusing prepositions: {confusing_prep}\")"
   ]
  },
  {
   "cell_type": "code",
   "execution_count": 31,
   "metadata": {},
   "outputs": [
    {
     "name": "stdout",
     "output_type": "stream",
     "text": [
      "Requirement already satisfied: matplotlib in c:\\users\\lisal\\appdata\\local\\programs\\python\\python312\\lib\\site-packages (3.8.2)\n",
      "Requirement already satisfied: contourpy>=1.0.1 in c:\\users\\lisal\\appdata\\local\\programs\\python\\python312\\lib\\site-packages (from matplotlib) (1.2.0)\n",
      "Requirement already satisfied: cycler>=0.10 in c:\\users\\lisal\\appdata\\local\\programs\\python\\python312\\lib\\site-packages (from matplotlib) (0.12.1)\n",
      "Requirement already satisfied: fonttools>=4.22.0 in c:\\users\\lisal\\appdata\\local\\programs\\python\\python312\\lib\\site-packages (from matplotlib) (4.46.0)\n",
      "Requirement already satisfied: kiwisolver>=1.3.1 in c:\\users\\lisal\\appdata\\local\\programs\\python\\python312\\lib\\site-packages (from matplotlib) (1.4.5)\n",
      "Requirement already satisfied: numpy<2,>=1.21 in c:\\users\\lisal\\appdata\\local\\programs\\python\\python312\\lib\\site-packages (from matplotlib) (1.26.2)\n",
      "Requirement already satisfied: packaging>=20.0 in c:\\users\\lisal\\appdata\\local\\programs\\python\\python312\\lib\\site-packages (from matplotlib) (23.2)\n",
      "Requirement already satisfied: pillow>=8 in c:\\users\\lisal\\appdata\\local\\programs\\python\\python312\\lib\\site-packages (from matplotlib) (10.1.0)\n",
      "Requirement already satisfied: pyparsing>=2.3.1 in c:\\users\\lisal\\appdata\\local\\programs\\python\\python312\\lib\\site-packages (from matplotlib) (3.1.1)\n",
      "Requirement already satisfied: python-dateutil>=2.7 in c:\\users\\lisal\\appdata\\local\\programs\\python\\python312\\lib\\site-packages (from matplotlib) (2.8.2)\n",
      "Requirement already satisfied: six>=1.5 in c:\\users\\lisal\\appdata\\local\\programs\\python\\python312\\lib\\site-packages (from python-dateutil>=2.7->matplotlib) (1.16.0)\n",
      "Note: you may need to restart the kernel to use updated packages.\n"
     ]
    }
   ],
   "source": [
    "pip install matplotlib"
   ]
  },
  {
   "cell_type": "code",
   "execution_count": 32,
   "metadata": {},
   "outputs": [
    {
     "data": {
      "image/png": "[encoded data removed]",
      "text/plain": [
       "<Figure size 1000x600 with 1 Axes>"
      ]
     },
     "metadata": {},
     "output_type": "display_data"
    }
   ],
   "source": [
    "import matplotlib.pyplot as plt\n",
    "#Which words are frequent as verbs? as first noun? as second noun?\n",
    "def frequent_verbs(pos_tags):\n",
    "    count = {}\n",
    "    freq = {}\n",
    "    all_verbs = []\n",
    "    for example in pos_tags:\n",
    "        for word, tag in example['pos']:\n",
    "            if tag.startswith('VB'):\n",
    "                all_verbs.append(word)\n",
    "                if word in count:\n",
    "                    count[word] += 1\n",
    "                else:\n",
    "                    count[word] = 1\n",
    "    for word in count: \n",
    "        freq[word] = count[word] / len(all_verbs)\n",
    "    return freq\n",
    "                \n",
    "verb_frequencies = frequent_verbs(pp_examples)\n",
    "\n",
    "sorted_freq = sorted(verb_frequencies.items(), key = lambda item: item[1], reverse = True)\n",
    "top_10_freq = sorted_freq[:10]\n",
    "verbs, verb_freq_values = zip(*top_10_freq)\n",
    "plt.figure(figsize=(10, 6))\n",
    "plt.bar(verbs, verb_freq_values)\n",
    "plt.xlabel(\"Verbs\")\n",
    "plt.ylabel(\"Frequency\")\n",
    "plt.title(\"Most frequent verbs\")\n",
    "plt.tight_layout()\n",
    "plt.show()"
   ]
  },
  {
   "cell_type": "code",
   "execution_count": 33,
   "metadata": {},
   "outputs": [
    {
     "data": {
      "image/png": "[encoded data removed]",
      "text/plain": [
       "<Figure size 1000x600 with 1 Axes>"
      ]
     },
     "metadata": {},
     "output_type": "display_data"
    },
    {
     "data": {
      "image/png": "[encoded data removed]",
      "text/plain": [
       "<Figure size 1000x600 with 1 Axes>"
      ]
     },
     "metadata": {},
     "output_type": "display_data"
    }
   ],
   "source": [
    "def frequent_nouns(pos_tags, position=1):\n",
    "    count = {}\n",
    "    freq = {}\n",
    "    all_nouns = []\n",
    "    for example in pos_tags:\n",
    "        nouns = [word for word, tag in example['pos'] if tag.startswith('N')]\n",
    "        for word, tag in example['pos']:\n",
    "            if tag.startswith('N'):\n",
    "                all_nouns.append(word)\n",
    "        if len(nouns) >= position: \n",
    "            noun = nouns[position - 1]\n",
    "            if noun in count: \n",
    "                count[noun] += 1\n",
    "            else: \n",
    "                count[noun] = 1\n",
    "    for noun in count: \n",
    "        freq[noun] = count[noun] / len(all_nouns)\n",
    "    return freq\n",
    "\n",
    "#creating plot for frequent first nouns: \n",
    "first_noun_freq = frequent_nouns(pp_examples)\n",
    "\n",
    "noun_1st_sorted_freq = sorted(first_noun_freq.items(), key = lambda item: item[1], reverse = True)\n",
    "top_10_1stnoun_freq = noun_1st_sorted_freq[:10]\n",
    "\n",
    "nouns_1st, noun_1st_freq_values = zip(*top_10_1stnoun_freq)\n",
    "plt.figure(figsize = (10, 6))\n",
    "plt.bar(nouns_1st, noun_1st_freq_values)\n",
    "plt.xlabel(\"Nouns\")\n",
    "plt.ylabel(\"1st noun frequency\")\n",
    "plt.title(\"Most frequent first nouns\")\n",
    "plt.tight_layout()\n",
    "plt.show()\n",
    "\n",
    "second_noun_freq = frequent_nouns(pp_examples, 2)\n",
    "noun_2nd_sorted_freq = sorted(second_noun_freq.items(), key = lambda item: item[1], reverse = True)\n",
    "top_10_2ndnoun_freq = noun_2nd_sorted_freq[:10]\n",
    "\n",
    "nouns_2nd, noun_2nd_freq_values = zip(*top_10_2ndnoun_freq)\n",
    "plt.figure(figsize = (10, 6))\n",
    "plt.bar(nouns_2nd, noun_2nd_freq_values)\n",
    "plt.xlabel(\"Nouns\")\n",
    "plt.ylabel(\"2nd noun frequency\")\n",
    "plt.title(\"Most frequent second nouns\")\n",
    "plt.tight_layout()\n",
    "plt.show()"
   ]
  },
  {
   "cell_type": "markdown",
   "metadata": {
    "id": "Fe0J8DNxo7jG"
   },
   "source": [
    "## Working with a corpus"
   ]
  },
  {
   "cell_type": "code",
   "execution_count": 34,
   "metadata": {},
   "outputs": [
    {
     "name": "stderr",
     "output_type": "stream",
     "text": [
      "[nltk_data] Downloading package brown to\n",
      "[nltk_data]     C:\\Users\\lisal\\AppData\\Roaming\\nltk_data...\n",
      "[nltk_data]   Package brown is already up-to-date!\n",
      "[nltk_data] Downloading package punkt to\n",
      "[nltk_data]     C:\\Users\\lisal\\AppData\\Roaming\\nltk_data...\n",
      "[nltk_data]   Package punkt is already up-to-date!\n"
     ]
    }
   ],
   "source": [
    "nltk.download(\"brown\")\n",
    "nltk.download(\"punkt\")\n",
    "from nltk.corpus import brown"
   ]
  },
  {
   "cell_type": "code",
   "execution_count": 35,
   "metadata": {},
   "outputs": [
    {
     "name": "stdout",
     "output_type": "stream",
     "text": [
      "['Such an operator is obviously the zero operator ; ;', 'When he had the mishap of breaking his spectacles , his ecumenical colleagues insisted on providing him with new ones .', 'Across the bridge on the left I saw St. Sophia with its sturdy brown minarets and to the right of them the slenderer spires of the Blue Mosque .', 'This can be accomplished substantially by a continued trend toward better facilities and techniques for fire control and more resources to cope with critical fire periods , and a more intensive application of a program of prevention , detection , and control of insect and disease infestations .', \"She put a strong hand under the old man's arm and lifted him up , patiently , with the gentle cruelty and necessary tyranny that the young show toward the very old .\", 'He was not the sort of sailor Hudson wanted his backers to see on board and he had Greene wait at Gravesend , where the Discovery picked him up .', 'Even with the increase in funds for the next fiscal year , Georgia will be spending only around $3.15 per day per patient .', 'A constant problem confronting Davis on any proposals for new taxes will be the charge by his foes that he has not tried to economize .', 'These include : leaves of absences , illnesses , and layoffs .', 'And what would her mother be doing right now ? ?', 'He carried the tub from the back of the house where it hung from a nail in the wall .', \"One of the advantages of this method is that the `` pill '' can remain in the patient for several days , permitting observation under natural conditions .\", 'Biological agents are , moreover , suitable for delivery through enemy sabotage which imposes many problems in defense .', 'Cold came in the innumerable cracks that seemed to have sprung up , under doors , around loosened window frames , from the sleeping porches , the attic , from the widened cracks between shingles on the roof .', 'To Adams that age in which religion exercised power over the entire culture of the race was one of imagination , and it is largely the admiration he so obviously held for such eras that betrays a peculiar religiosity -- a sentiment he would have probably denied .', 'The wind from the Rhine was damp and chill , necessitating a fire for warmth .', 'The endothelial cells lining the sinusoids were prominent , and many contained large quantities of hemosiderin .', 'They were free .', '`` The argument that is cutting most ice is that Hearst is the only candidate who is fighting the trusts fearlessly and who would use all the powers of government to disrupt them if he were elected .', \"Oersted's boyhood represented a minimal chance of either attaining greatness or serving his people so well and over so long a span of life .\", 'The magazine , edited by members of the Carleton Department of English , includes contributions by authors from both within and beyond the Carleton community .', '( Anyone active enough can reach a roof , wherever his room may be .', 'Staff engineer dept. manager', \"Came to the Harbor as a bride and Don't worry Jed , this one is in the bag .\", 'The Soviet news agency TASS datelined from New York in English to Europe :', 'We had nearly decided that all the tales of Lao lethargy must be true , when we were invited to take a trip with the Prime Minister .', '$15,000 to pay six policemen assigned as dog catchers and $15,000 to investigate dog bites .', 'What a spectacle he was , caked with dirt and sweat and blood , filthy as a pig and naked as an Indian , kissing the finest , the sweetest , the bravest , and absolutely the prettiest girl in this whole wonderful world .', 'We were almost the same age , she was fifteen , I was twelve , and where I felt there was a life to look forward to Lilly felt she had had as much of it as was necessary .', 'I did so because I agree with so many here today , that he is the beloved Speaker of all the people of the United States .', '`` We were requested by the Secretary General , as I understand it , to discuss with you such matters as appear to us to be relevant , and we are not of course either a formal group or a committee in the sense of being guided by any rules or regulations of the Secretariat .', 'the world-renowned 500-mile auto race at Indianapolis , Indiana , plus a festival from May 27-30 ; ;', 'Macneff raised his hands apologetically and said , `` You are horrified , of course .', 'Few business groups in recent years have come under heavier pressure to face these realities than real estate brokers and home builders .', 'Out of many factors which might be cited , five are most important : 1 .', \"High , so it would only bounce harmlessly but loudly off the car's steel roof .\", 'Spot retains the same decor although crystal chandeliers have been installed above the terrace dining area , and the kitchen has undergone a remodeling job .', \"It cannot become the source of a real Atlantic community if it remains organized to deal only with the military threat which first brought it into being '' .\", 'When the gubernatorial campaign starts , Caldwell is expected to become a campaign coordinator for Byrd .', 'William Wimsatt and Cleanth Brooks , it seems to me , have a penetrating insight into the way in which this control is effected : `` For if we say poetry is to talk of beauty and love ( and yet not aim at exciting erotic emotion or even an emotion of Platonic esteem ) and if it is to talk of anger and murder ( and yet not aim at arousing anger and indignation ) -- then it may be that the poetic way of dealing with these emotions will not be any kind of intensification , compounding , or magnification , or any direct assault upon the affections at all .', \"He tried to tell the Lady Da , but the words weren't quite straight .\", 'Later , Shea owned and operated the Long Island Indians , a minor league professional football team .', \"If you will be using your car more than fifteen days , which isn't all unlikely , the daily rates drop quite sharply to $.86 a day for the Fiat 500 and to an infinitesimal $.30 a day for the Fiat 2100 Station Wagon .\", \"-- Billy Gardner's line double , which just eluded the diving Minnie Minoso in left field , drove in Jim Lemon with the winning run with two out in the last of the ninth to give the Minnesota Twins a 6-5 victory over the Chicago White Sox Monday .\", 'Under Fosdick the first executive officer of the CTCA was Richard Byrd , whose name in later years was to become synonymous with activities at the polar antipodes .', 'They put Kate to bed and wired Jonathan and sent for the young Presbyterian minister .', 'The old man beckoned with one finger and Clayton went forward to him .', 'Perhaps the most powerful and most frequently recurring literary influence on the Western world has been that of the Old and New Testament .', 'Above all , they will stop in the middle of anything , anywhere , to hear or quote some poetry .', 'Bundle centers']\n"
     ]
    }
   ],
   "source": [
    "import random\n",
    "\n",
    "categories = brown.categories()\n",
    "\n",
    "brown_corpus = {}\n",
    "for category in categories:\n",
    "    sentences = brown.sents(categories = category)\n",
    "    brown_corpus[category] = sentences\n",
    "\n",
    "sentence_brown_token = []\n",
    "for category, sentences in brown_corpus.items():\n",
    "    for sentence in sentences:\n",
    "        sentence_brown_token.append(sentence)\n",
    "\n",
    "brown_sentences = [\" \".join(sentence) for sentence in sentence_brown_token]\n",
    "        \n",
    "random.shuffle(brown_sentences)\n",
    "feature_sentences = brown_sentences[:50]\n",
    "print(feature_sentences)"
   ]
  },
  {
   "cell_type": "code",
   "execution_count": 36,
   "metadata": {},
   "outputs": [],
   "source": [
    "from nltk.tokenize import RegexpTokenizer\n",
    "\n",
    "def check_occurrences(corpus, target_sequence, window_size = 5):\n",
    "    regex_tokenizer = RegexpTokenizer(r'\\w+')\n",
    "    corpus_token = []\n",
    "    for sentence in corpus:\n",
    "        tokenized_sentence = regex_tokenizer.tokenize(sentence)\n",
    "        corpus_token.append(tokenized_sentence)\n",
    "    pos_token = [pos_tag(tokens) for tokens in corpus_token]\n",
    "    pair_count = {}\n",
    "    triplet_count = {}\n",
    "    for pos_tags in pos_token:\n",
    "        for num, (word, pos) in enumerate(pos_tags):\n",
    "            start = max(0, num - window_size)\n",
    "            end = min(len(pos_tags), num + window_size + 1)\n",
    "            window_words = pos_tags[start:end]\n",
    "            for sequence in target_sequence:\n",
    "                if len(sequence) == 2:\n",
    "                    for i in range(len(window_words) - 1):\n",
    "                        if (window_words[i][1] == sequence[0]) and (window_words[i + 1][1] == sequence[1]):\n",
    "                            pair_count[sequence] = pair_count.get(sequence, 0) + 1\n",
    "                elif len(sequence) == 3:\n",
    "                    if all(tag in [pos for _, pos in window_words] for tag in sequence):\n",
    "                        triplet_count[sequence] = triplet_count.get(sequence, 0) + 1\n",
    "    return pair_count, triplet_count"
   ]
  },
  {
   "cell_type": "markdown",
   "metadata": {
    "id": "Fe0J8DNxo7jG"
   },
   "source": [
    "## Model time!"
   ]
  },
  {
   "cell_type": "code",
   "execution_count": 37,
   "metadata": {},
   "outputs": [
    {
     "data": {
      "text/plain": [
       "'def feature_extraction(data, certain_verb_prep, certain_noun_prep):\\n    features_list = []\\n    for sentence in data:\\n        features = {}\\n        for preposition in certain_verb_prep: \\n            features[f\"certain_verb_prep_{preposition}\"] = preposition in sentence\\n        for preposition in certain_noun_prep: \\n            features[f\"certain_noun_prep_{preposition}\"] = preposition in sentence\\n        features_list.append(features)\\n    return features_list\\n\\nX = feature_extraction([example[\\'keywords\\'] for example in pp_examples], certain_prep_verb, certain_prep_noun)\\nY = [example[\\'answer\\'] for example in pp_examples]\\n\\nX_train, X_toval, Y_train, Y_toval = train_test_split(X, Y, test_size = 0.3, random_state = 42)\\nX_val, X_test, Y_val, Y_test = train_test_split(X_toval, Y_toval, test_size = 0.5, random_state = 42)\\nvectorizer = DictVectorizer(sparse = False)\\nX_train = vectorizer.fit_transform(X_train)\\nX_val = vectorizer.transform(X_val)\\nX_test = vectorizer.transform(X_test)\\n\\nsvm_classifier = SVC()\\nsvm_classifier.fit(X_train, Y_train)\\n\\nY_val_pred = svm_classifier.predict(X_val)\\n\\naccuracy_val = accuracy_score(Y_val, Y_val_pred)\\nprint(f\"Validation Accuracy: {accuracy_val}\")\\n\\n#Y_test_pred = svm_classifier.predict(X_test)\\n\\n#accuracy_test = accuracy_score(Y_val, Y_val_pred)\\n#print(f\"Test accuracy: {accuracy_val}\")\\n\\nValidation Accuracy: 0.7032740397009538'"
      ]
     },
     "execution_count": 37,
     "metadata": {},
     "output_type": "execute_result"
    }
   ],
   "source": [
    "# first try - SVM\n",
    "from sklearn.model_selection import train_test_split\n",
    "from sklearn.feature_extraction import DictVectorizer\n",
    "from sklearn.svm import SVC\n",
    "from sklearn.metrics import accuracy_score\n",
    "from sklearn.metrics import matthews_corrcoef\n",
    "\n",
    "'''def feature_extraction(data, certain_verb_prep, certain_noun_prep):\n",
    "    features_list = []\n",
    "    for sentence in data:\n",
    "        features = {}\n",
    "        for preposition in certain_verb_prep: \n",
    "            features[f\"certain_verb_prep_{preposition}\"] = preposition in sentence\n",
    "        for preposition in certain_noun_prep: \n",
    "            features[f\"certain_noun_prep_{preposition}\"] = preposition in sentence\n",
    "        features_list.append(features)\n",
    "    return features_list\n",
    "\n",
    "X = feature_extraction([example['keywords'] for example in pp_examples], certain_prep_verb, certain_prep_noun)\n",
    "Y = [example['answer'] for example in pp_examples]\n",
    "\n",
    "X_train, X_toval, Y_train, Y_toval = train_test_split(X, Y, test_size = 0.3, random_state = 42)\n",
    "X_val, X_test, Y_val, Y_test = train_test_split(X_toval, Y_toval, test_size = 0.5, random_state = 42)\n",
    "vectorizer = DictVectorizer(sparse = False)\n",
    "X_train = vectorizer.fit_transform(X_train)\n",
    "X_val = vectorizer.transform(X_val)\n",
    "X_test = vectorizer.transform(X_test)\n",
    "\n",
    "svm_classifier = SVC()\n",
    "svm_classifier.fit(X_train, Y_train)\n",
    "\n",
    "Y_val_pred = svm_classifier.predict(X_val)\n",
    "\n",
    "accuracy_val = accuracy_score(Y_val, Y_val_pred)\n",
    "print(f\"Validation Accuracy: {accuracy_val}\")\n",
    "\n",
    "#Y_test_pred = svm_classifier.predict(X_test)\n",
    "\n",
    "#accuracy_test = accuracy_score(Y_val, Y_val_pred)\n",
    "#print(f\"Test accuracy: {accuracy_val}\")\n",
    "\n",
    "Validation Accuracy: 0.7032740397009538'''"
   ]
  },
  {
   "cell_type": "code",
   "execution_count": 38,
   "metadata": {},
   "outputs": [
    {
     "data": {
      "text/plain": [
       "'def feature_extraction(data, certain_verb_prep, certain_noun_prep):\\n    features_list = []\\n    for sentence in data:\\n        features = {}\\n        pos_tags = pos_tag(sentence)  # added POS-tagging\\n        for preposition in certain_verb_prep: \\n            features[f\"certain_verb_prep_{preposition}\"] = preposition in sentence\\n        for preposition in certain_noun_prep: \\n            features[f\"certain_noun_prep_{preposition}\"] = preposition in sentence\\n        features_list.append(features)\\n    return features_list\\n\\nX = feature_extraction([example[\\'keywords\\'] for example in pp_examples], certain_prep_verb, certain_prep_noun)\\nY = [example[\\'answer\\'] for example in pp_examples]\\n\\nX_train, X_toval, Y_train, Y_toval = train_test_split(X, Y, test_size = 0.2, random_state = 42)  # changed size\\nX_val, X_test, Y_val, Y_test = train_test_split(X_toval, Y_toval, test_size = 0.5, random_state = 42)\\nvectorizer = DictVectorizer(sparse = False)\\nX_train = vectorizer.fit_transform(X_train)\\nX_val = vectorizer.transform(X_val)\\nX_test = vectorizer.transform(X_test)\\n\\nsvm_classifier = SVC()\\nsvm_classifier.fit(X_train, Y_train)\\n\\nY_val_pred = svm_classifier.predict(X_val)\\n\\naccuracy_val = accuracy_score(Y_val, Y_val_pred)\\nprint(f\"Validation Accuracy: {accuracy_val}\")\\n\\nI could only see a slight improvement here. After checking to pin-point where the improvement came from, I can say that just adjusting the test size\\nwas beneficial. The POS-tagging didn\\'t seem to have any effect. \\n\\nValidation Accuracy: 0.705723124516628'"
      ]
     },
     "execution_count": 38,
     "metadata": {},
     "output_type": "execute_result"
    }
   ],
   "source": [
    "# second try - SVM\n",
    "'''def feature_extraction(data, certain_verb_prep, certain_noun_prep):\n",
    "    features_list = []\n",
    "    for sentence in data:\n",
    "        features = {}\n",
    "        pos_tags = pos_tag(sentence)  # added POS-tagging\n",
    "        for preposition in certain_verb_prep: \n",
    "            features[f\"certain_verb_prep_{preposition}\"] = preposition in sentence\n",
    "        for preposition in certain_noun_prep: \n",
    "            features[f\"certain_noun_prep_{preposition}\"] = preposition in sentence\n",
    "        features_list.append(features)\n",
    "    return features_list\n",
    "\n",
    "X = feature_extraction([example['keywords'] for example in pp_examples], certain_prep_verb, certain_prep_noun)\n",
    "Y = [example['answer'] for example in pp_examples]\n",
    "\n",
    "X_train, X_toval, Y_train, Y_toval = train_test_split(X, Y, test_size = 0.2, random_state = 42)  # changed size\n",
    "X_val, X_test, Y_val, Y_test = train_test_split(X_toval, Y_toval, test_size = 0.5, random_state = 42)\n",
    "vectorizer = DictVectorizer(sparse = False)\n",
    "X_train = vectorizer.fit_transform(X_train)\n",
    "X_val = vectorizer.transform(X_val)\n",
    "X_test = vectorizer.transform(X_test)\n",
    "\n",
    "svm_classifier = SVC()\n",
    "svm_classifier.fit(X_train, Y_train)\n",
    "\n",
    "Y_val_pred = svm_classifier.predict(X_val)\n",
    "\n",
    "accuracy_val = accuracy_score(Y_val, Y_val_pred)\n",
    "print(f\"Validation Accuracy: {accuracy_val}\")\n",
    "\n",
    "I could only see a slight improvement here. After checking to pin-point where the improvement came from, I can say that just adjusting the test size\n",
    "was beneficial. The POS-tagging didn't seem to have any effect. \\n\n",
    "Validation Accuracy: 0.705723124516628'''"
   ]
  },
  {
   "cell_type": "code",
   "execution_count": 39,
   "metadata": {},
   "outputs": [
    {
     "data": {
      "text/plain": [
       "'def feature_extraction(data, certain_verb_prep, certain_noun_prep):\\n    features_list = []\\n    for sentence in data:\\n        features = {}\\n        pos_tags = pos_tag(sentence)\\n        for preposition in certain_verb_prep: \\n            features[f\"certain_verb_prep_{preposition}\"] = preposition in sentence\\n            features[f\"certain_verb_pos_{preposition}\"] = any(tag.startswith(\\'VB\\') for _, tag in pos_tags)\\n        for preposition in certain_noun_prep: \\n            features[f\"certain_noun_prep_{preposition}\"] = preposition in sentence\\n            features[f\"certain_noun_pos_{preposition}\"] = any(tag.startswith(\\'NN\\') for _, tag in pos_tags)\\n        features_list.append(features)\\n    return features_list\\n\\nX = feature_extraction([example[\\'keywords\\'] for example in pp_examples], certain_prep_verb, certain_prep_noun)\\nY = [example[\\'answer\\'] for example in pp_examples]\\n\\nX_train, X_toval, Y_train, Y_toval = train_test_split(X, Y, test_size = 0.2, random_state = 42)  # changed size\\nX_val, X_test, Y_val, Y_test = train_test_split(X_toval, Y_toval, test_size = 0.5, random_state = 42)\\nvectorizer = DictVectorizer(sparse = False)\\nX_train = vectorizer.fit_transform(X_train)\\nX_val = vectorizer.transform(X_val)\\nX_test = vectorizer.transform(X_test)\\n\\nsvm_classifier = SVC()\\nsvm_classifier.fit(X_train, Y_train)\\n\\nY_val_pred = svm_classifier.predict(X_val)\\n\\naccuracy_val = accuracy_score(Y_val, Y_val_pred)\\nprint(f\"Validation Accuracy: {accuracy_val}\")\\n\\nThat just made it worse, trying something else\\n\\nValidation Accuracy: 0.7041763341067285'"
      ]
     },
     "execution_count": 39,
     "metadata": {},
     "output_type": "execute_result"
    }
   ],
   "source": [
    "# third try - SVM\n",
    "\n",
    "'''def feature_extraction(data, certain_verb_prep, certain_noun_prep):\n",
    "    features_list = []\n",
    "    for sentence in data:\n",
    "        features = {}\n",
    "        pos_tags = pos_tag(sentence)\n",
    "        for preposition in certain_verb_prep: \n",
    "            features[f\"certain_verb_prep_{preposition}\"] = preposition in sentence\n",
    "            features[f\"certain_verb_pos_{preposition}\"] = any(tag.startswith('VB') for _, tag in pos_tags)\n",
    "        for preposition in certain_noun_prep: \n",
    "            features[f\"certain_noun_prep_{preposition}\"] = preposition in sentence\n",
    "            features[f\"certain_noun_pos_{preposition}\"] = any(tag.startswith('NN') for _, tag in pos_tags)\n",
    "        features_list.append(features)\n",
    "    return features_list\n",
    "\n",
    "X = feature_extraction([example['keywords'] for example in pp_examples], certain_prep_verb, certain_prep_noun)\n",
    "Y = [example['answer'] for example in pp_examples]\n",
    "\n",
    "X_train, X_toval, Y_train, Y_toval = train_test_split(X, Y, test_size = 0.2, random_state = 42)  # changed size\n",
    "X_val, X_test, Y_val, Y_test = train_test_split(X_toval, Y_toval, test_size = 0.5, random_state = 42)\n",
    "vectorizer = DictVectorizer(sparse = False)\n",
    "X_train = vectorizer.fit_transform(X_train)\n",
    "X_val = vectorizer.transform(X_val)\n",
    "X_test = vectorizer.transform(X_test)\n",
    "\n",
    "svm_classifier = SVC()\n",
    "svm_classifier.fit(X_train, Y_train)\n",
    "\n",
    "Y_val_pred = svm_classifier.predict(X_val)\n",
    "\n",
    "accuracy_val = accuracy_score(Y_val, Y_val_pred)\n",
    "print(f\"Validation Accuracy: {accuracy_val}\")\n",
    "\n",
    "That just made it worse, trying something else\\n\n",
    "Validation Accuracy: 0.7041763341067285'''"
   ]
  },
  {
   "cell_type": "code",
   "execution_count": 40,
   "metadata": {},
   "outputs": [
    {
     "data": {
      "text/plain": [
       "'def feature_extraction(data, certain_verb_prep, certain_noun_prep):\\n    features_list = []\\n    for sentence in data:\\n        features = {}\\n        pos_tags = pos_tag(sentence)\\n        for preposition in certain_verb_prep: \\n            features[f\"certain_verb_prep_{preposition}\"] = preposition in sentence\\n        for preposition in certain_noun_prep: \\n            features[f\"certain_noun_prep_{preposition}\"] = preposition in sentence\\n        for word in sentence: \\n            syn_word = wn.synsets(word)\\n            for synset in syn_word:\\n                examples = synset.examples()\\n                features[f\"Usage_examples_{word}\"] = any(example in sentence for example in examples)\\n        features_list.append(features)\\n    return features_list\\n\\nX = feature_extraction([example[\\'keywords\\'] for example in pp_examples], certain_prep_verb, certain_prep_noun)\\nY = [example[\\'answer\\'] for example in pp_examples]\\n\\nX_train, X_toval, Y_train, Y_toval = train_test_split(X, Y, test_size = 0.2, random_state = 42)  # changed size\\nX_val, X_test, Y_val, Y_test = train_test_split(X_toval, Y_toval, test_size = 0.5, random_state = 42)\\nvectorizer = DictVectorizer(sparse = False)\\nX_train = vectorizer.fit_transform(X_train)\\nX_val = vectorizer.transform(X_val)\\nX_test = vectorizer.transform(X_test)\\n\\nsvm_classifier = SVC()\\nsvm_classifier.fit(X_train, Y_train)\\n\\nY_val_pred = svm_classifier.predict(X_val)\\n\\naccuracy_val = accuracy_score(Y_val, Y_val_pred)\\nprint(f\"Validation Accuracy: {accuracy_val}\")\\n\\nthis also didn\\'t seem to improve overall performance, so I will be trying to work with n-grams\\n\\nValidation Accuracy: 0.705723124516628'"
      ]
     },
     "execution_count": 40,
     "metadata": {},
     "output_type": "execute_result"
    }
   ],
   "source": [
    "# fourth try - SVM\n",
    "from nltk.corpus import wordnet as wn\n",
    "\n",
    "'''def feature_extraction(data, certain_verb_prep, certain_noun_prep):\n",
    "    features_list = []\n",
    "    for sentence in data:\n",
    "        features = {}\n",
    "        pos_tags = pos_tag(sentence)\n",
    "        for preposition in certain_verb_prep: \n",
    "            features[f\"certain_verb_prep_{preposition}\"] = preposition in sentence\n",
    "        for preposition in certain_noun_prep: \n",
    "            features[f\"certain_noun_prep_{preposition}\"] = preposition in sentence\n",
    "        for word in sentence: \n",
    "            syn_word = wn.synsets(word)\n",
    "            for synset in syn_word:\n",
    "                examples = synset.examples()\n",
    "                features[f\"Usage_examples_{word}\"] = any(example in sentence for example in examples)\n",
    "        features_list.append(features)\n",
    "    return features_list\n",
    "\n",
    "X = feature_extraction([example['keywords'] for example in pp_examples], certain_prep_verb, certain_prep_noun)\n",
    "Y = [example['answer'] for example in pp_examples]\n",
    "\n",
    "X_train, X_toval, Y_train, Y_toval = train_test_split(X, Y, test_size = 0.2, random_state = 42)  # changed size\n",
    "X_val, X_test, Y_val, Y_test = train_test_split(X_toval, Y_toval, test_size = 0.5, random_state = 42)\n",
    "vectorizer = DictVectorizer(sparse = False)\n",
    "X_train = vectorizer.fit_transform(X_train)\n",
    "X_val = vectorizer.transform(X_val)\n",
    "X_test = vectorizer.transform(X_test)\n",
    "\n",
    "svm_classifier = SVC()\n",
    "svm_classifier.fit(X_train, Y_train)\n",
    "\n",
    "Y_val_pred = svm_classifier.predict(X_val)\n",
    "\n",
    "accuracy_val = accuracy_score(Y_val, Y_val_pred)\n",
    "print(f\"Validation Accuracy: {accuracy_val}\")\n",
    "\n",
    "this also didn't seem to improve overall performance, so I will be trying to work with n-grams\\n\n",
    "Validation Accuracy: 0.705723124516628'''"
   ]
  },
  {
   "cell_type": "code",
   "execution_count": 41,
   "metadata": {},
   "outputs": [
    {
     "data": {
      "text/plain": [
       "'def word_position(sentence, pos_tags, search_pos):\\n    word_positions = [i for i, (word, pos) in enumerate(pos_tags) if pos.startswith(search_pos)]  # maybe try it with words instead of positions\\n    return word_positions\\n\\ndef feature_extraction(data, certain_verb_prep, certain_noun_prep):\\n    features_list = []\\n    for example in data:\\n        sentence = example[\\'keywords\\']\\n        pos_tags = example[\\'pos\\']\\n        features = {}\\n        features[\"identity_verb\"] = str(word_position(sentence, pos_tags, \\'VB\\'))\\n        features[\"identity_prep\"] = str(word_position(sentence, pos_tags, \\'IN\\')) + str(word_position(sentence, pos_tags, \\'TO\\'))\\n        features[\"identity_noun\"] = str(word_position(sentence, pos_tags, \\'NN\\'))\\n\\n        features[\"identity_verb_prep\"] = (features[\"identity_verb\"], features[\"identity_prep\"])\\n        features[\"identity_noun_prep\"] = (features[\"identity_noun\"], features[\"identity_prep\"])\\n        features[\"identity_prep_noun\"] = (features[\"identity_prep\"], features[\"identity_noun\"])\\n\\n        features[\"identity_verb_prep_noun\"] = (features[\"identity_verb\"], features[\"identity_prep\"], features[\"identity_noun\"])\\n        features[\"identity_noun_prep_noun\"] = (features[\"identity_noun\"], features[\"identity_prep\"], features[\"identity_noun\"])\\n        \\n        features[\"identity_verb_prep_noun_noun\"] = (features[\"identity_verb\"], features[\"identity_prep\"], features[\"identity_noun\"], features[\"identity_noun\"])\\n        \\n        for preposition in certain_verb_prep: \\n            features[f\"certain_verb_prep_{preposition}\"] = preposition in sentence\\n            \\n        for preposition in certain_noun_prep: \\n            features[f\"certain_noun_prep_{preposition}\"] = preposition in sentence\\n            \\n        for word in sentence: \\n            syn_word = wn.synsets(word)\\n            for synset in syn_word:\\n                examples = synset.examples()\\n                features[f\"Usage_examples_{word}\"] = any(example in sentence for example in examples)\\n        features_list.append(features)\\n    return features_list\\n\\nX = feature_extraction(pp_examples, certain_prep_verb, certain_prep_noun)\\nY = [example[\\'answer\\'] for example in pp_examples]\\n\\nX_train, X_toval, Y_train, Y_toval = train_test_split(X, Y, test_size = 0.2, random_state = 42)\\nX_val, X_test, Y_val, Y_test = train_test_split(X_toval, Y_toval, test_size = 0.5, random_state = 42)\\nvectorizer = DictVectorizer(sparse = False)\\nX_train = vectorizer.fit_transform(X_train)\\nX_val = vectorizer.transform(X_val)\\nX_test = vectorizer.transform(X_test)\\n\\nsvm_classifier = SVC(kernel = \"linear\")\\nsvm_classifier.fit(X_train, Y_train)\\n\\nY_val_pred = svm_classifier.predict(X_val)\\n\\naccuracy_val = accuracy_score(Y_val, Y_val_pred)\\nprint(f\"Validation Accuracy: {accuracy_val}\")\\n\\n I could see a slight improvement here, so I will be trying to connect my features\\n\\nValidation Accuracy: 0.7072699149265275\\n'"
      ]
     },
     "execution_count": 41,
     "metadata": {},
     "output_type": "execute_result"
    }
   ],
   "source": [
    "# fifth try - SVM\n",
    "\n",
    "'''def word_position(sentence, pos_tags, search_pos):\n",
    "    word_positions = [i for i, (word, pos) in enumerate(pos_tags) if pos.startswith(search_pos)]  # maybe try it with words instead of positions\n",
    "    return word_positions\n",
    "\n",
    "def feature_extraction(data, certain_verb_prep, certain_noun_prep):\n",
    "    features_list = []\n",
    "    for example in data:\n",
    "        sentence = example['keywords']\n",
    "        pos_tags = example['pos']\n",
    "        features = {}\n",
    "        features[\"identity_verb\"] = str(word_position(sentence, pos_tags, 'VB'))\n",
    "        features[\"identity_prep\"] = str(word_position(sentence, pos_tags, 'IN')) + str(word_position(sentence, pos_tags, 'TO'))\n",
    "        features[\"identity_noun\"] = str(word_position(sentence, pos_tags, 'NN'))\n",
    "\n",
    "        features[\"identity_verb_prep\"] = (features[\"identity_verb\"], features[\"identity_prep\"])\n",
    "        features[\"identity_noun_prep\"] = (features[\"identity_noun\"], features[\"identity_prep\"])\n",
    "        features[\"identity_prep_noun\"] = (features[\"identity_prep\"], features[\"identity_noun\"])\n",
    "\n",
    "        features[\"identity_verb_prep_noun\"] = (features[\"identity_verb\"], features[\"identity_prep\"], features[\"identity_noun\"])\n",
    "        features[\"identity_noun_prep_noun\"] = (features[\"identity_noun\"], features[\"identity_prep\"], features[\"identity_noun\"])\n",
    "        \n",
    "        features[\"identity_verb_prep_noun_noun\"] = (features[\"identity_verb\"], features[\"identity_prep\"], features[\"identity_noun\"], features[\"identity_noun\"])\n",
    "        \n",
    "        for preposition in certain_verb_prep: \n",
    "            features[f\"certain_verb_prep_{preposition}\"] = preposition in sentence\n",
    "            \n",
    "        for preposition in certain_noun_prep: \n",
    "            features[f\"certain_noun_prep_{preposition}\"] = preposition in sentence\n",
    "            \n",
    "        for word in sentence: \n",
    "            syn_word = wn.synsets(word)\n",
    "            for synset in syn_word:\n",
    "                examples = synset.examples()\n",
    "                features[f\"Usage_examples_{word}\"] = any(example in sentence for example in examples)\n",
    "        features_list.append(features)\n",
    "    return features_list\n",
    "\n",
    "X = feature_extraction(pp_examples, certain_prep_verb, certain_prep_noun)\n",
    "Y = [example['answer'] for example in pp_examples]\n",
    "\n",
    "X_train, X_toval, Y_train, Y_toval = train_test_split(X, Y, test_size = 0.2, random_state = 42)\n",
    "X_val, X_test, Y_val, Y_test = train_test_split(X_toval, Y_toval, test_size = 0.5, random_state = 42)\n",
    "vectorizer = DictVectorizer(sparse = False)\n",
    "X_train = vectorizer.fit_transform(X_train)\n",
    "X_val = vectorizer.transform(X_val)\n",
    "X_test = vectorizer.transform(X_test)\n",
    "\n",
    "svm_classifier = SVC(kernel = \"linear\")\n",
    "svm_classifier.fit(X_train, Y_train)\n",
    "\n",
    "Y_val_pred = svm_classifier.predict(X_val)\n",
    "\n",
    "accuracy_val = accuracy_score(Y_val, Y_val_pred)\n",
    "print(f\"Validation Accuracy: {accuracy_val}\")\n",
    "\n",
    " I could see a slight improvement here, so I will be trying to connect my features\\n\n",
    "Validation Accuracy: 0.7072699149265275\n",
    "'''"
   ]
  },
  {
   "cell_type": "code",
   "execution_count": 42,
   "metadata": {},
   "outputs": [
    {
     "data": {
      "text/plain": [
       "'for word in sentence: \\n            syn_word = wn.synsets(word)\\n            for synset in syn_word:\\n                examples = synset.examples()\\n                for example in examples: \\n                    if features[\"identity_verb_prep\"] or features[\"identity_noun_prep\"] or features[\"identity_prep_noun\"] in example:\\n                        features[f\"Usage_examples_{word}\"] = any(example in sentence for example in examples)'"
      ]
     },
     "execution_count": 42,
     "metadata": {},
     "output_type": "execute_result"
    }
   ],
   "source": [
    "''' abandoned features: \n",
    "        features[\"identity_verb\"] = str(word_position(sentence, pos_tags, 'VB'))\n",
    "        features[\"identity_prep\"] = str(word_position(sentence, pos_tags, 'IN')) + str(word_position(sentence, pos_tags, 'TO'))\n",
    "        features[\"identity_noun\"] = str(word_position(sentence, pos_tags, 'NN'))\n",
    "\n",
    "        features[\"identity_verb_prep\"] = \" \".join(str(value) for value in (features[\"identity_verb\"], features[\"identity_prep\"]))\n",
    "        features[\"identity_noun_prep\"] = \" \".join(str(value) for value in (features[\"identity_noun\"], features[\"identity_prep\"]))\n",
    "        features[\"identity_prep_noun\"] = \" \".join(str(value) for value in (features[\"identity_prep\"], features[\"identity_noun\"]))\n",
    "\n",
    "        features[\"identity_verb_prep_noun\"] = \" \".join(str(value) for value in (features[\"identity_verb\"], features[\"identity_prep\"], features[\"identity_noun\"]))\n",
    "        features[\"identity_noun_prep_noun\"] = \" \".join(str(value) for value in (features[\"identity_noun\"], features[\"identity_prep\"], features[\"identity_noun\"]))\n",
    "        \n",
    "        features[\"identity_verb_prep_noun_noun\"] = \" \".join(str(value) for value in (features[\"identity_verb\"], features[\"identity_prep\"], features[\"identity_noun\"], features[\"identity_noun\"]))\n",
    "        '''\n",
    "'''for word in sentence: \n",
    "            syn_word = wn.synsets(word)\n",
    "            for synset in syn_word:\n",
    "                examples = synset.examples()\n",
    "                for example in examples: \n",
    "                    if features[\"identity_verb_prep\"] or features[\"identity_noun_prep\"] or features[\"identity_prep_noun\"] in example:\n",
    "                        features[f\"Usage_examples_{word}\"] = any(example in sentence for example in examples)'''"
   ]
  },
  {
   "cell_type": "code",
   "execution_count": 43,
   "metadata": {},
   "outputs": [],
   "source": [
    "import gensim.downloader as gensim\n",
    "\n",
    "glove_model = gensim.load(\"glove-wiki-gigaword-50\")"
   ]
  },
  {
   "cell_type": "code",
   "execution_count": 140,
   "metadata": {},
   "outputs": [
    {
     "name": "stdout",
     "output_type": "stream",
     "text": [
      "on is rather confusing\n",
      "near is rather confusing\n",
      "below is rather confusing\n",
      "despite occurrs over 90% of the time with a V\n",
      "next occurrs over 90% of the time with a V\n",
      "until occurrs over 90% of the time with a V\n",
      "onto occurrs over 90% of the time with a V\n",
      "above is rather confusing\n",
      "amid occurrs over 90% of the time with a V\n",
      "while occurrs over 90% of the time with a V\n",
      "unlike occurrs over 90% of the time with a V\n",
      "aboard occurrs over 90% of the time with a V\n",
      "alongside is rather confusing\n",
      "in is rather confusing\n",
      "on is rather confusing\n",
      "unto occurrs over 90% of the time with a N\n",
      "near is rather confusing\n",
      "of occurrs over 90% of the time with a N\n",
      "below is rather confusing\n",
      "vs. occurrs over 90% of the time with a N\n",
      "besides occurrs over 90% of the time with a N\n",
      "above is rather confusing\n",
      "alongside is rather confusing\n",
      "in is rather confusing\n",
      "per occurrs over 90% of the time with a N\n",
      "oversaw occurrs over 90% of the time with a N\n"
     ]
    }
   ],
   "source": [
    "import random\n",
    "import numpy as np\n",
    "from sklearn.feature_extraction.text import CountVectorizer\n",
    "from sklearn.preprocessing import StandardScaler\n",
    "from sklearn.pipeline import FeatureUnion, Pipeline\n",
    "from sklearn.compose import ColumnTransformer\n",
    "import spacy\n",
    "\n",
    "nlp = spacy.load(\"en_core_web_sm\")\n",
    "\n",
    "\n",
    "def word_position(sentence, pos_tags, search_pos):\n",
    "    word_positions = [word for i, (word, pos) in enumerate(pos_tags) if pos.startswith(search_pos)]  # maybe try it with words instead of positions\n",
    "    return \" \".join(word_positions)\n",
    "\n",
    "def feature_extraction(data, pos_tags, certain_verb_prep, certain_noun_prep, word_pairs, word_triplet):\n",
    "    features_list = []\n",
    "    for sentence, tags in zip(data, pos_tags):\n",
    "        features = {}\n",
    "        pos_sequence = [tag for word, tag in tags]\n",
    "        features[\"pos_sequence\"] = \" \".join(pos_sequence)\n",
    "        word_embeddings = []\n",
    "        for word in sentence:\n",
    "            try:\n",
    "                word_embedding = glove_model[word]\n",
    "            except KeyError:\n",
    "                word_embedding = np.random.normal(size=50)\n",
    "            word_embeddings.append(word_embedding)\n",
    "        if word_embeddings:\n",
    "            features[\"word_embeddings\"] = \" \".join(str(value) for value in np.mean(word_embeddings, axis = 0))\n",
    "        else: \n",
    "            features[\"word_embeddings\"] = \" \".join(str(value) for value in np.zeros(50))\n",
    "        sentence_str = \" \".join(sentence)\n",
    "        ner = []\n",
    "        doc = nlp(sentence_str)\n",
    "        for ent in doc.ents:\n",
    "            ner.append(ent)\n",
    "        features[\"Named_entities\"] = \" \".join(str(value) for value in ner)\n",
    "        for preposition in certain_verb_prep: \n",
    "            features[f\"certain_verb_prep_{preposition}\"] = str(preposition in sentence)            \n",
    "        for preposition in certain_noun_prep: \n",
    "            features[f\"certain_noun_prep_{preposition}\"] = str(preposition in sentence)\n",
    "        for pair, count in word_pairs.items():\n",
    "            features[f\"word_pairs{pair}\"] = count\n",
    "        for triplet, count in word_triplet.items():\n",
    "            features[f\"word_triplets{triplet}\"] = count\n",
    "        all_features = \" \".join(str(value) for value in features.values())\n",
    "        features_list.append(all_features)\n",
    "    return features_list\n",
    "        \n",
    "random.shuffle(pp_examples)\n",
    "test_pp_examples = pp_examples[:5000]\n",
    "joined_examples = [' '.join(example['keywords']) for example in test_pp_examples]\n",
    "\n",
    "test_freq_prep_verb, test_certain_prep_verb, test_confusing_prep_verb = count_freq_prep(get_unique_prepositions(pp_examples), 'V')\n",
    "test_freq_prep_noun, test_certain_prep_noun, test_confusing_prep_noun = count_freq_prep(get_unique_prepositions(pp_examples), 'N')\n",
    "\n",
    "sequences = [(\"VB\", \"IN\" or \"TO\"), (\"NN\", \"IN\" or \"TO\"), (\"NN\", \"IN\", \"NN\")]\n",
    "pair_counts, triplet_counts = check_occurrences(feature_sentences, sequences)"
   ]
  },
  {
   "cell_type": "code",
   "execution_count": 141,
   "metadata": {},
   "outputs": [
    {
     "name": "stdout",
     "output_type": "stream",
     "text": [
      "Validation accuracy: 0.68\n",
      "Test accuracy: 0.686\n"
     ]
    }
   ],
   "source": [
    "X = joined_examples\n",
    "Y = [example['answer'] for example in test_pp_examples]\n",
    "\n",
    "X_train, X_toval, Y_train, Y_toval = train_test_split(X, Y, test_size = 0.2, random_state = 42)\n",
    "X_val, X_test, Y_val, Y_test = train_test_split(X_toval, Y_toval, test_size = 0.5, random_state = 42)\n",
    "\n",
    "X_train_features = feature_extraction(X_train, [example['pos'] for example in test_pp_examples], certain_prep_verb, certain_prep_noun, pair_counts, triplet_counts)\n",
    "X_val_features = feature_extraction(X_val, [example['pos'] for example in test_pp_examples], certain_prep_verb, certain_prep_noun, pair_counts, triplet_counts)\n",
    "X_test_features = feature_extraction(X_test, [example['pos'] for example in test_pp_examples], certain_prep_verb, certain_prep_noun, pair_counts, triplet_counts)\n",
    "pipeline = Pipeline([\n",
    "    (\"features\", FeatureUnion([\n",
    "        (\"text\", Pipeline([(\"vect\", CountVectorizer(binary=True, ngram_range=(1, 4)))])),\n",
    "    ])),\n",
    "    (\"svm\", SVC(kernel=\"rbf\", C = 10))\n",
    "])\n",
    "pipeline.fit(X_train_features, Y_train)\n",
    "\n",
    "Y_val_pred = pipeline.predict(X_val_features)\n",
    "\n",
    "accuracy_val = accuracy_score(Y_val, Y_val_pred)\n",
    "print(f\"Validation accuracy: {accuracy_val}\")\n",
    "\n",
    "Y_test_pred = pipeline.predict(X_test_features)\n",
    "accuracy_test = accuracy_score(Y_test, Y_test_pred)\n",
    "print(f\"Test accuracy: {accuracy_test}\")\n",
    "\n",
    "# before change: Validation accuracy: 0.672\n",
    "# after first improvement: Validation accuracy: 0.708 (C=10, test_size = 0.2)\n",
    "# no further improvements after tweaking C\n",
    "# giving more data (10000 indeces) worsened the validation accuracy: 0.676"
   ]
  },
  {
   "cell_type": "code",
   "execution_count": 142,
   "metadata": {},
   "outputs": [
    {
     "name": "stdout",
     "output_type": "stream",
     "text": [
      "Validation accuracy: 0.544\n",
      "Test accuracy: 0.564\n"
     ]
    }
   ],
   "source": [
    "from sklearn.naive_bayes import MultinomialNB\n",
    "\n",
    "X = joined_examples\n",
    "Y = [example['answer'] for example in test_pp_examples]\n",
    "\n",
    "X_train, X_toval, Y_train, Y_toval = train_test_split(X, Y, test_size = 0.2, random_state = 42)\n",
    "X_val, X_test, Y_val, Y_test = train_test_split(X_toval, Y_toval, test_size = 0.5, random_state = 42)\n",
    "\n",
    "X_train_features = feature_extraction(X_train, [example['pos'] for example in test_pp_examples], certain_prep_verb, certain_prep_noun, pair_counts, triplet_counts)\n",
    "X_val_features = feature_extraction(X_val, [example['pos'] for example in test_pp_examples], certain_prep_verb, certain_prep_noun, pair_counts, triplet_counts)\n",
    "X_test_features = feature_extraction(X_test, [example['pos'] for example in test_pp_examples], certain_prep_verb, certain_prep_noun, pair_counts, triplet_counts)\n",
    "\n",
    "\n",
    "pipeline = Pipeline([\n",
    "    (\"features\", FeatureUnion([\n",
    "        (\"text\", Pipeline([(\"vect\", CountVectorizer(binary=True, ngram_range=(1, 4)))])),\n",
    "    ])),\n",
    "    (\"nb\", MultinomialNB(alpha = 1.5))\n",
    "])\n",
    "pipeline.fit(X_train_features, Y_train)\n",
    "\n",
    "Y_val_pred = pipeline.predict(X_val_features)\n",
    "\n",
    "accuracy_val = accuracy_score(Y_val, Y_val_pred)\n",
    "print(f\"Validation accuracy: {accuracy_val}\")\n",
    "\n",
    "\n",
    "Y_test_pred = pipeline.predict(X_test_features)\n",
    "accuracy_test = accuracy_score(Y_test, Y_test_pred)\n",
    "print(f\"Test accuracy: {accuracy_test}\")\n",
    "# before: Validation accuracy: 0.5653333333333334\n",
    "# after first change: Validation accuracy: 0.526 (alpha = 0.25, test_size = 0.2)\n",
    "# after second change: Validation accuracy: 0.534(alpha = 1.25)\n",
    "# after change 3: 0.534 (alpha = 1.5)"
   ]
  },
  {
   "cell_type": "code",
   "execution_count": 143,
   "metadata": {},
   "outputs": [
    {
     "name": "stdout",
     "output_type": "stream",
     "text": [
      "Validation accuracy: 0.672\n",
      "Test accuracy: 0.684\n"
     ]
    }
   ],
   "source": [
    "from sklearn.ensemble import RandomForestClassifier\n",
    "from sklearn.datasets import make_classification\n",
    "\n",
    "X_train, X_toval, Y_train, Y_toval = train_test_split(X, Y, test_size = 0.2, random_state = 42)\n",
    "X_val, X_test, Y_val, Y_test = train_test_split(X_toval, Y_toval, test_size = 0.5, random_state = 42)\n",
    "\n",
    "X_train_features = feature_extraction(X_train, [example['pos'] for example in test_pp_examples], certain_prep_verb, certain_prep_noun, pair_counts, triplet_counts)\n",
    "X_val_features = feature_extraction(X_val, [example['pos'] for example in test_pp_examples], certain_prep_verb, certain_prep_noun, pair_counts, triplet_counts)\n",
    "X_test_features = feature_extraction(X_test, [example['pos'] for example in test_pp_examples], certain_prep_verb, certain_prep_noun, pair_counts, triplet_counts)\n",
    "\n",
    "\n",
    "pipeline = Pipeline([\n",
    "    (\"features\", FeatureUnion([\n",
    "        (\"text\", Pipeline([(\"vect\", CountVectorizer(binary=True, ngram_range=(1, 4)))])),\n",
    "    ])),\n",
    "    (\"rf\", RandomForestClassifier(n_estimators = 150, random_state = 42))\n",
    "])\n",
    "pipeline.fit(X_train_features, Y_train)\n",
    "\n",
    "Y_val_pred = pipeline.predict(X_val_features)\n",
    "\n",
    "accuracy_val = accuracy_score(Y_val, Y_val_pred)\n",
    "print(f\"Validation accuracy: {accuracy_val}\")\n",
    "\n",
    "Y_test_pred = pipeline.predict(X_test_features)\n",
    "accuracy_test = accuracy_score(Y_test, Y_test_pred)\n",
    "print(f\"Test accuracy: {accuracy_test}\")\n",
    "# before: Validation accuracy: 0.672 (n_estimators = 100, test_size = 0.2)\n",
    "# after first change: Validation accuracy: 0.706 (n_estimators = 150, test_size = 0.2)\n",
    "# after change 2: no change in accuracy (n_estimators = 200)"
   ]
  },
  {
   "cell_type": "code",
   "execution_count": 144,
   "metadata": {},
   "outputs": [
    {
     "name": "stdout",
     "output_type": "stream",
     "text": [
      "Validation accuracy: 0.68\n",
      "Test accuracy: 0.686\n"
     ]
    }
   ],
   "source": [
    "from sklearn.datasets import load_iris\n",
    "from sklearn.linear_model import LogisticRegression\n",
    "\n",
    "X_train, X_toval, Y_train, Y_toval = train_test_split(X, Y, test_size = 0.2, random_state = 42)\n",
    "X_val, X_test, Y_val, Y_test = train_test_split(X_toval, Y_toval, test_size = 0.5, random_state = 42)\n",
    "\n",
    "X_train_features = feature_extraction(X_train, [example['pos'] for example in test_pp_examples], certain_prep_verb, certain_prep_noun, pair_counts, triplet_counts)\n",
    "X_val_features = feature_extraction(X_val, [example['pos'] for example in test_pp_examples], certain_prep_verb, certain_prep_noun, pair_counts, triplet_counts)\n",
    "X_test_features = feature_extraction(X_test, [example['pos'] for example in test_pp_examples], certain_prep_verb, certain_prep_noun, pair_counts, triplet_counts)\n",
    "\n",
    "pipeline = Pipeline([\n",
    "    (\"features\", FeatureUnion([\n",
    "        (\"text\", Pipeline([(\"vect\", CountVectorizer(binary=True, ngram_range=(1, 4)))])),\n",
    "    ])),\n",
    "    (\"lr\", LogisticRegression(random_state = 42, C = 0.001, penalty = \"l2\"))\n",
    "])\n",
    "pipeline.fit(X_train_features, Y_train)\n",
    "\n",
    "Y_val_pred = pipeline.predict(X_val_features)\n",
    "\n",
    "accuracy_val = accuracy_score(Y_val, Y_val_pred)\n",
    "print(f\"Validation accuracy: {accuracy_val}\")\n",
    "\n",
    "Y_test_pred = pipeline.predict(X_test_features)\n",
    "accuracy_test = accuracy_score(Y_test, Y_test_pred)\n",
    "print(f\"Test accuracy: {accuracy_test}\")\n",
    "# before: Validation accuracy: 0.6706666666666666 (test_size = 0.3, C=10, max_iter = 5000)\n",
    "# after change 1: Validation accuracy: 0.702 (test_size = 0.2, C = 0.1) \n",
    "# after improvement 2: Validation accuracy: 0.704 (C = 0.01)\n",
    "# after improvement 3:Validation accuracy: 0.706 (C=0.001)\n"
   ]
  },
  {
   "cell_type": "code",
   "execution_count": 145,
   "metadata": {},
   "outputs": [
    {
     "name": "stdout",
     "output_type": "stream",
     "text": [
      "Validation accuracy: 0.672\n",
      "Test accuracy: 0.682\n"
     ]
    }
   ],
   "source": [
    "from sklearn.linear_model import RidgeClassifier\n",
    "\n",
    "X_train, X_toval, Y_train, Y_toval = train_test_split(X, Y, test_size = 0.2, random_state = 42)\n",
    "X_val, X_test, Y_val, Y_test = train_test_split(X_toval, Y_toval, test_size = 0.5, random_state = 42)\n",
    "\n",
    "X_train_features = feature_extraction(X_train, [example['pos'] for example in test_pp_examples], certain_prep_verb, certain_prep_noun, pair_counts, triplet_counts)\n",
    "X_val_features = feature_extraction(X_val, [example['pos'] for example in test_pp_examples], certain_prep_verb, certain_prep_noun, pair_counts, triplet_counts)\n",
    "X_test_features = feature_extraction(X_test, [example['pos'] for example in test_pp_examples], certain_prep_verb, certain_prep_noun, pair_counts, triplet_counts)\n",
    "\n",
    "pipeline = Pipeline([\n",
    "    (\"features\", FeatureUnion([\n",
    "        (\"text\", Pipeline([(\"vect\", CountVectorizer(binary=True, ngram_range=(1, 4)))])),\n",
    "    ])),\n",
    "    (\"ridge\", RidgeClassifier(random_state = 42, alpha = 1.5))\n",
    "])\n",
    "pipeline.fit(X_train_features, Y_train)\n",
    "\n",
    "Y_val_pred = pipeline.predict(X_val_features)\n",
    "\n",
    "accuracy_val = accuracy_score(Y_val, Y_val_pred)\n",
    "print(f\"Validation accuracy: {accuracy_val}\")\n",
    "\n",
    "\n",
    "Y_test_pred = pipeline.predict(X_test_features)\n",
    "accuracy_test = accuracy_score(Y_test, Y_test_pred)\n",
    "print(f\"Test accuracy: {accuracy_test}\")\n",
    "# after first change: Validation accuracy: 0.702 (test_size = 0.2)"
   ]
  },
  {
   "cell_type": "code",
   "execution_count": 146,
   "metadata": {},
   "outputs": [
    {
     "name": "stdout",
     "output_type": "stream",
     "text": [
      "Validation accuracy: 0.546\n",
      "Test accuracy: 0.564\n"
     ]
    }
   ],
   "source": [
    "from sklearn.model_selection import cross_val_score\n",
    "from sklearn.tree import DecisionTreeClassifier\n",
    "\n",
    "X_train, X_toval, Y_train, Y_toval = train_test_split(X, Y, test_size = 0.2, random_state = 42)\n",
    "X_val, X_test, Y_val, Y_test = train_test_split(X_toval, Y_toval, test_size = 0.5, random_state = 42)\n",
    "\n",
    "X_train_features = feature_extraction(X_train, [example['pos'] for example in test_pp_examples], certain_prep_verb, certain_prep_noun, pair_counts, triplet_counts)\n",
    "X_val_features = feature_extraction(X_val, [example['pos'] for example in test_pp_examples], certain_prep_verb, certain_prep_noun, pair_counts, triplet_counts)\n",
    "X_test_features = feature_extraction(X_test, [example['pos'] for example in test_pp_examples], certain_prep_verb, certain_prep_noun, pair_counts, triplet_counts)\n",
    "\n",
    "pipeline = Pipeline([\n",
    "    (\"features\", FeatureUnion([\n",
    "        (\"text\", Pipeline([(\"vect\", CountVectorizer(binary=True, ngram_range=(1, 4)))])),\n",
    "    ])),\n",
    "    (\"dt\", DecisionTreeClassifier(random_state = 42, ccp_alpha = 1.25))\n",
    "])\n",
    "pipeline.fit(X_train_features, Y_train)\n",
    "\n",
    "Y_val_pred = pipeline.predict(X_val_features)\n",
    "\n",
    "accuracy_val = accuracy_score(Y_val, Y_val_pred)\n",
    "print(f\"Validation accuracy: {accuracy_val}\")\n",
    "\n",
    "Y_test_pred = pipeline.predict(X_test_features)\n",
    "accuracy_test = accuracy_score(Y_test, Y_test_pred)\n",
    "print(f\"Test accuracy: {accuracy_test}\")\n",
    "#after first change: Validation accuracy: 0.568 (test_size = 0.2, ccp_alpha = 1.25)"
   ]
  },
  {
   "cell_type": "markdown",
   "metadata": {
    "id": "Fe0J8DNxo7jG"
   },
   "source": [
    "## Side note - final thoughts - \"best\" models: SVM and Logistic Regression test accuracy 0.686 "
   ]
  },
  {
   "cell_type": "code",
   "execution_count": null,
   "metadata": {},
   "outputs": [],
   "source": [
    "'''I am honestly quite disappointed in the results. \n",
    "I think I went wrong in a few places. \n",
    "First are the features. I think there are quite a few which are either redundant and unneccessary or plainly confusing the models. \n",
    "It might have been better to focus on less features and figure out which combination works best. Instead of going for the \"more is more\"-approach.\n",
    "The confusion part became clearer to me the more data I used and the worse my results got. \n",
    "I had made it up to 75% accuracy in validation sets. However, I noticed that I didn't follow the proper order of splitting the sets first and then using the features.'''\n"
   ]
  }
 ],
 "metadata": {
  "colab": {
   "collapsed_sections": [
    "ZEHsHqnBEnM0",
    "MRYNWqK-Gu3F",
    "vyls_Vs7MxYj"
   ],
   "name": "04_LM_PP_Attachment_classification",
   "provenance": [],
   "toc_visible": true
  },
  "kernelspec": {
   "display_name": "Python 3 (ipykernel)",
   "language": "python",
   "name": "python3"
  },
  "language_info": {
   "codemirror_mode": {
    "name": "ipython",
    "version": 3
   },
   "file_extension": ".py",
   "mimetype": "text/x-python",
   "name": "python",
   "nbconvert_exporter": "python",
   "pygments_lexer": "ipython3",
   "version": "3.12.0"
  },
  "widgets": {
   "application/vnd.jupyter.widget-state+json": {
    "21e7997920304d9fa40ac980ccaa23a8": {
     "model_module": "@jupyter-widgets/base",
     "model_module_version": "1.2.0",
     "model_name": "LayoutModel",
     "state": {
      "_model_module": "@jupyter-widgets/base",
      "_model_module_version": "1.2.0",
      "_model_name": "LayoutModel",
      "_view_count": null,
      "_view_module": "@jupyter-widgets/base",
      "_view_module_version": "1.2.0",
      "_view_name": "LayoutView",
      "align_content": null,
      "align_items": null,
      "align_self": null,
      "border": null,
      "bottom": null,
      "display": null,
      "flex": null,
      "flex_flow": null,
      "grid_area": null,
      "grid_auto_columns": null,
      "grid_auto_flow": null,
      "grid_auto_rows": null,
      "grid_column": null,
      "grid_gap": null,
      "grid_row": null,
      "grid_template_areas": null,
      "grid_template_columns": null,
      "grid_template_rows": null,
      "height": null,
      "justify_content": null,
      "justify_items": null,
      "left": null,
      "margin": null,
      "max_height": null,
      "max_width": null,
      "min_height": null,
      "min_width": null,
      "object_fit": null,
      "object_position": null,
      "order": null,
      "overflow": null,
      "overflow_x": null,
      "overflow_y": null,
      "padding": null,
      "right": null,
      "top": null,
      "visibility": null,
      "width": "20px"
     }
    },
    "68b10d056a4442cd9db79ddea92717e7": {
     "model_module": "@jupyter-widgets/controls",
     "model_module_version": "1.5.0",
     "model_name": "DescriptionStyleModel",
     "state": {
      "_model_module": "@jupyter-widgets/controls",
      "_model_module_version": "1.5.0",
      "_model_name": "DescriptionStyleModel",
      "_view_count": null,
      "_view_module": "@jupyter-widgets/base",
      "_view_module_version": "1.2.0",
      "_view_name": "StyleView",
      "description_width": ""
     }
    },
    "6cdbfdf25ae7480990f6bec3be5af042": {
     "model_module": "@jupyter-widgets/controls",
     "model_module_version": "1.5.0",
     "model_name": "DescriptionStyleModel",
     "state": {
      "_model_module": "@jupyter-widgets/controls",
      "_model_module_version": "1.5.0",
      "_model_name": "DescriptionStyleModel",
      "_view_count": null,
      "_view_module": "@jupyter-widgets/base",
      "_view_module_version": "1.2.0",
      "_view_name": "StyleView",
      "description_width": ""
     }
    },
    "7434a567e30e4d27a92f9e6b7da7451f": {
     "model_module": "@jupyter-widgets/base",
     "model_module_version": "1.2.0",
     "model_name": "LayoutModel",
     "state": {
      "_model_module": "@jupyter-widgets/base",
      "_model_module_version": "1.2.0",
      "_model_name": "LayoutModel",
      "_view_count": null,
      "_view_module": "@jupyter-widgets/base",
      "_view_module_version": "1.2.0",
      "_view_name": "LayoutView",
      "align_content": null,
      "align_items": null,
      "align_self": null,
      "border": null,
      "bottom": null,
      "display": null,
      "flex": null,
      "flex_flow": null,
      "grid_area": null,
      "grid_auto_columns": null,
      "grid_auto_flow": null,
      "grid_auto_rows": null,
      "grid_column": null,
      "grid_gap": null,
      "grid_row": null,
      "grid_template_areas": null,
      "grid_template_columns": null,
      "grid_template_rows": null,
      "height": null,
      "justify_content": null,
      "justify_items": null,
      "left": null,
      "margin": null,
      "max_height": null,
      "max_width": null,
      "min_height": null,
      "min_width": null,
      "object_fit": null,
      "object_position": null,
      "order": null,
      "overflow": null,
      "overflow_x": null,
      "overflow_y": null,
      "padding": null,
      "right": null,
      "top": null,
      "visibility": null,
      "width": null
     }
    },
    "8a736964320a40e58619af6f1a457f76": {
     "model_module": "@jupyter-widgets/base",
     "model_module_version": "1.2.0",
     "model_name": "LayoutModel",
     "state": {
      "_model_module": "@jupyter-widgets/base",
      "_model_module_version": "1.2.0",
      "_model_name": "LayoutModel",
      "_view_count": null,
      "_view_module": "@jupyter-widgets/base",
      "_view_module_version": "1.2.0",
      "_view_name": "LayoutView",
      "align_content": null,
      "align_items": null,
      "align_self": null,
      "border": null,
      "bottom": null,
      "display": null,
      "flex": null,
      "flex_flow": null,
      "grid_area": null,
      "grid_auto_columns": null,
      "grid_auto_flow": null,
      "grid_auto_rows": null,
      "grid_column": null,
      "grid_gap": null,
      "grid_row": null,
      "grid_template_areas": null,
      "grid_template_columns": null,
      "grid_template_rows": null,
      "height": null,
      "justify_content": null,
      "justify_items": null,
      "left": null,
      "margin": null,
      "max_height": null,
      "max_width": null,
      "min_height": null,
      "min_width": null,
      "object_fit": null,
      "object_position": null,
      "order": null,
      "overflow": null,
      "overflow_x": null,
      "overflow_y": null,
      "padding": null,
      "right": null,
      "top": null,
      "visibility": null,
      "width": null
     }
    },
    "a4ddc41ed6d348fea0dd24101a05b61f": {
     "model_module": "@jupyter-widgets/controls",
     "model_module_version": "1.5.0",
     "model_name": "FloatProgressModel",
     "state": {
      "_dom_classes": [],
      "_model_module": "@jupyter-widgets/controls",
      "_model_module_version": "1.5.0",
      "_model_name": "FloatProgressModel",
      "_view_count": null,
      "_view_module": "@jupyter-widgets/controls",
      "_view_module_version": "1.5.0",
      "_view_name": "ProgressView",
      "bar_style": "success",
      "description": "",
      "description_tooltip": null,
      "layout": "IPY_MODEL_21e7997920304d9fa40ac980ccaa23a8",
      "max": 1,
      "min": 0,
      "orientation": "horizontal",
      "style": "IPY_MODEL_c459ae9bc0914cceb22f5c0f636293ce",
      "value": 1
     }
    },
    "afbe8e962e7f491e810421b31fa6f4dc": {
     "model_module": "@jupyter-widgets/controls",
     "model_module_version": "1.5.0",
     "model_name": "HTMLModel",
     "state": {
      "_dom_classes": [],
      "_model_module": "@jupyter-widgets/controls",
      "_model_module_version": "1.5.0",
      "_model_name": "HTMLModel",
      "_view_count": null,
      "_view_module": "@jupyter-widgets/controls",
      "_view_module_version": "1.5.0",
      "_view_name": "HTMLView",
      "description": "",
      "description_tooltip": null,
      "layout": "IPY_MODEL_fb78fd2ff49a47168aeb150ea62587b0",
      "placeholder": "​",
      "style": "IPY_MODEL_6cdbfdf25ae7480990f6bec3be5af042",
      "value": ""
     }
    },
    "c459ae9bc0914cceb22f5c0f636293ce": {
     "model_module": "@jupyter-widgets/controls",
     "model_module_version": "1.5.0",
     "model_name": "ProgressStyleModel",
     "state": {
      "_model_module": "@jupyter-widgets/controls",
      "_model_module_version": "1.5.0",
      "_model_name": "ProgressStyleModel",
      "_view_count": null,
      "_view_module": "@jupyter-widgets/base",
      "_view_module_version": "1.2.0",
      "_view_name": "StyleView",
      "bar_color": null,
      "description_width": ""
     }
    },
    "cd8ae80cc4704eaeb53dd420c860780c": {
     "model_module": "@jupyter-widgets/controls",
     "model_module_version": "1.5.0",
     "model_name": "HBoxModel",
     "state": {
      "_dom_classes": [],
      "_model_module": "@jupyter-widgets/controls",
      "_model_module_version": "1.5.0",
      "_model_name": "HBoxModel",
      "_view_count": null,
      "_view_module": "@jupyter-widgets/controls",
      "_view_module_version": "1.5.0",
      "_view_name": "HBoxView",
      "box_style": "",
      "children": [
       "IPY_MODEL_afbe8e962e7f491e810421b31fa6f4dc",
       "IPY_MODEL_a4ddc41ed6d348fea0dd24101a05b61f",
       "IPY_MODEL_e905c46a3e8c45939802e8f391eac7c4"
      ],
      "layout": "IPY_MODEL_7434a567e30e4d27a92f9e6b7da7451f"
     }
    },
    "e905c46a3e8c45939802e8f391eac7c4": {
     "model_module": "@jupyter-widgets/controls",
     "model_module_version": "1.5.0",
     "model_name": "HTMLModel",
     "state": {
      "_dom_classes": [],
      "_model_module": "@jupyter-widgets/controls",
      "_model_module_version": "1.5.0",
      "_model_name": "HTMLModel",
      "_view_count": null,
      "_view_module": "@jupyter-widgets/controls",
      "_view_module_version": "1.5.0",
      "_view_name": "HTMLView",
      "description": "",
      "description_tooltip": null,
      "layout": "IPY_MODEL_8a736964320a40e58619af6f1a457f76",
      "placeholder": "​",
      "style": "IPY_MODEL_68b10d056a4442cd9db79ddea92717e7",
      "value": " 25858/? [00:00&lt;00:00, 152386.89it/s]"
     }
    },
    "fb78fd2ff49a47168aeb150ea62587b0": {
     "model_module": "@jupyter-widgets/base",
     "model_module_version": "1.2.0",
     "model_name": "LayoutModel",
     "state": {
      "_model_module": "@jupyter-widgets/base",
      "_model_module_version": "1.2.0",
      "_model_name": "LayoutModel",
      "_view_count": null,
      "_view_module": "@jupyter-widgets/base",
      "_view_module_version": "1.2.0",
      "_view_name": "LayoutView",
      "align_content": null,
      "align_items": null,
      "align_self": null,
      "border": null,
      "bottom": null,
      "display": null,
      "flex": null,
      "flex_flow": null,
      "grid_area": null,
      "grid_auto_columns": null,
      "grid_auto_flow": null,
      "grid_auto_rows": null,
      "grid_column": null,
      "grid_gap": null,
      "grid_row": null,
      "grid_template_areas": null,
      "grid_template_columns": null,
      "grid_template_rows": null,
      "height": null,
      "justify_content": null,
      "justify_items": null,
      "left": null,
      "margin": null,
      "max_height": null,
      "max_width": null,
      "min_height": null,
      "min_width": null,
      "object_fit": null,
      "object_position": null,
      "order": null,
      "overflow": null,
      "overflow_x": null,
      "overflow_y": null,
      "padding": null,
      "right": null,
      "top": null,
      "visibility": null,
      "width": null
     }
    }
   }
  }
 },
 "nbformat": 4,
 "nbformat_minor": 4
}
